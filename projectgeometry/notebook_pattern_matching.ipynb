{
 "cells": [
  {
   "cell_type": "markdown",
   "id": "a958bd6d-d3b9-4a4e-b495-0fa80851ba80",
   "metadata": {},
   "source": [
    "# Pattern Matching"
   ]
  },
  {
   "cell_type": "code",
   "execution_count": 2,
   "id": "bc623f94-c50a-4c74-be1e-70c96f153002",
   "metadata": {},
   "outputs": [],
   "source": [
    "from copy import copy"
   ]
  },
  {
   "cell_type": "code",
   "execution_count": 3,
   "id": "bdb53fd5-8906-4af8-acca-3593f23b5839",
   "metadata": {},
   "outputs": [],
   "source": [
    "%load_ext autoreload\n",
    "%autoreload 2"
   ]
  },
  {
   "cell_type": "code",
   "execution_count": 42,
   "id": "73c765c0-6447-4bd9-9265-bbc2c0005519",
   "metadata": {},
   "outputs": [],
   "source": [
    "from point import Point\n",
    "from weightedpoint import WeightedPoint\n",
    "from coloredpoint import ColoredPoint\n",
    "from coloredweightedpoint import ColoredWeightedPoint\n",
    "from circle import Circle\n",
    "from form import Form\n",
    "from mesurable2d import Mesurable2D"
   ]
  },
  {
   "cell_type": "code",
   "execution_count": 36,
   "id": "6e075197-7ec0-456a-ab42-5a3dd01db9af",
   "metadata": {},
   "outputs": [
    {
     "data": {
      "text/plain": [
       "[Point(name='A', x=1.5, y=2.5),\n",
       " WeightedPoint(name='B', x=-4.5, y=5.5, weight=12.75),\n",
       " ColoredPoint(name='C', x=6.5, y=7.5, color='red'),\n",
       " ColoredWeightedPoint(name='D', x=8.5, y=12.25, weight=10.25, color='green'),\n",
       " Circle(name='C_1', center=Point(name='A', x=1.5, y=2.5), radius=10.0),\n",
       " Circle(name='C_2', center=WeightedPoint(name='B', x=-4.5, y=5.5, weight=12.75), radius=20.0),\n",
       " Circle(name='C_3', center=ColoredPoint(name='C', x=6.5, y=7.5, color='red'), radius=30.0),\n",
       " Circle(name='C_4', center=ColoredWeightedPoint(name='D', x=8.5, y=12.25, weight=10.25, color='green'), radius=40.0)]"
      ]
     },
     "execution_count": 36,
     "metadata": {},
     "output_type": "execute_result"
    }
   ],
   "source": [
    "forms: list[Form] = [\n",
    "    Point('A', 1.5, 2.5),\n",
    "    WeightedPoint('B', -4.5, 5.5, weight=12.75),\n",
    "    ColoredPoint('C', 6.5, 7.5, color='red'),\n",
    "    ColoredWeightedPoint('D', 8.5, 12.25, weight=10.25, color='green'),\n",
    "]\n",
    "circles = [\n",
    "    Circle(name=f\"C_{i}\", center=p, radius=i*10.0) \n",
    "    for i, p in enumerate(forms, 1)\n",
    "]\n",
    "forms.extend(circles)\n",
    "forms"
   ]
  },
  {
   "cell_type": "code",
   "execution_count": 40,
   "id": "fcd26c76-a892-453d-986e-c9ccde2a4645",
   "metadata": {},
   "outputs": [
    {
     "name": "stdout",
     "output_type": "stream",
     "text": [
      "A -> A(1.5, 2.5)\n",
      "(1) Point A: 1.5 2.5\n",
      "\n",
      "B -> B(-4.5, 5.5)#12.75\n",
      "(2) Point with x < 0: B -4.5 5.5\n",
      "\n",
      "C -> C(6.5, 7.5)@red\n",
      "(3) Point: C 6.5 7.5\n",
      "\n",
      "D -> D(8.5, 12.25)#10.25@green\n",
      "(3) Point: D 8.5 12.25\n",
      "\n",
      "C_1 -> Circle(name='C_1', center=Point(name='A', x=1.5, y=2.5), radius=10.0)\n",
      "Circle with center A\n",
      "\n",
      "C_2 -> Circle(name='C_2', center=WeightedPoint(name='B', x=-4.5, y=5.5, weight=12.75), radius=20.0)\n",
      "skip: Circle(name='C_2', center=WeightedPoint(name='B', x=-4.5, y=5.5, weight=12.75), radius=20.0)\n",
      "\n",
      "C_3 -> Circle(name='C_3', center=ColoredPoint(name='C', x=6.5, y=7.5, color='red'), radius=30.0)\n",
      "skip: Circle(name='C_3', center=ColoredPoint(name='C', x=6.5, y=7.5, color='red'), radius=30.0)\n",
      "\n",
      "C_4 -> Circle(name='C_4', center=ColoredWeightedPoint(name='D', x=8.5, y=12.25, weight=10.25, color='green'), radius=40.0)\n",
      "skip: Circle(name='C_4', center=ColoredWeightedPoint(name='D', x=8.5, y=12.25, weight=10.25, color='green'), radius=40.0)\n",
      "\n"
     ]
    }
   ],
   "source": [
    "for f in forms:\n",
    "    print(f.name, '->', f)\n",
    "    match f:\n",
    "        case Point(name=\"A\", x=x, y=y):\n",
    "            print('(1) Point A:', x, y)\n",
    "        case Point(name=name, x=x, y=y) if x < 0:\n",
    "            print('(2) Point with x < 0:', name, x, y)\n",
    "        case Point(name=name, x=x, y=y):\n",
    "            print('(3) Point:', name, x, y)\n",
    "        case Circle(center=Point(name=\"A\")):\n",
    "            print('Circle with center A')\n",
    "        case _:\n",
    "            print('skip:', f)\n",
    "    print()"
   ]
  },
  {
   "cell_type": "code",
   "execution_count": 7,
   "id": "fc7a08bd-38ad-4726-8cad-103e991c6b66",
   "metadata": {},
   "outputs": [
    {
     "name": "stdout",
     "output_type": "stream",
     "text": [
      "A(1.5, 2.5) is a Point: True\n",
      "A(1.5, 2.5) is a WeightedPoint: False\n",
      "\n",
      "B(-4.5, 5.5)#12.75 is a Point: True\n",
      "B(-4.5, 5.5)#12.75 is a WeightedPoint: True\n",
      "\n",
      "C(6.5, 7.5)@red is a Point: True\n",
      "C(6.5, 7.5)@red is a WeightedPoint: False\n",
      "\n",
      "D(8.5, 12.25)#10.25@green is a Point: True\n",
      "D(8.5, 12.25)#10.25@green is a WeightedPoint: True\n",
      "\n"
     ]
    }
   ],
   "source": [
    "for f in forms:\n",
    "    print(f, 'is a Point:', isinstance(f, Point))\n",
    "    print(f, 'is a WeightedPoint:', isinstance(f, WeightedPoint))\n",
    "    print()"
   ]
  },
  {
   "cell_type": "code",
   "execution_count": 8,
   "id": "9f477746-bfa5-44db-8028-23f0691f6e48",
   "metadata": {},
   "outputs": [
    {
     "name": "stdout",
     "output_type": "stream",
     "text": [
      "A(1.5, 2.5) has been created as a Point: True\n",
      "A(1.5, 2.5) has been created as a WeightedPoint: False\n",
      "\n",
      "B(-4.5, 5.5)#12.75 has been created as a Point: False\n",
      "B(-4.5, 5.5)#12.75 has been created as a WeightedPoint: True\n",
      "\n",
      "C(6.5, 7.5)@red has been created as a Point: False\n",
      "C(6.5, 7.5)@red has been created as a WeightedPoint: False\n",
      "\n",
      "D(8.5, 12.25)#10.25@green has been created as a Point: False\n",
      "D(8.5, 12.25)#10.25@green has been created as a WeightedPoint: False\n",
      "\n"
     ]
    }
   ],
   "source": [
    "for f in forms:\n",
    "    print(f, 'has been created as a Point:', type(f) is Point)\n",
    "    print(f, 'has been created as a WeightedPoint:', type(f) is WeightedPoint)\n",
    "    print()"
   ]
  },
  {
   "cell_type": "code",
   "execution_count": 9,
   "id": "d6d6ec86-7e11-4ae3-9a1b-2a03dea70822",
   "metadata": {},
   "outputs": [],
   "source": [
    "p1 = forms[0]\n",
    "p2 = p1\n",
    "p3 = copy(p1)"
   ]
  },
  {
   "cell_type": "code",
   "execution_count": 10,
   "id": "59f2e71a-0c7f-4f98-bfb9-a26c17118c1c",
   "metadata": {},
   "outputs": [
    {
     "data": {
      "text/plain": [
       "(True, True)"
      ]
     },
     "execution_count": 10,
     "metadata": {},
     "output_type": "execute_result"
    }
   ],
   "source": [
    "# same object in memory\n",
    "p1 is p2, p1 == p2"
   ]
  },
  {
   "cell_type": "code",
   "execution_count": 11,
   "id": "7b105214-e7ba-4923-a82b-6787cb6c8533",
   "metadata": {},
   "outputs": [
    {
     "data": {
      "text/plain": [
       "(False, True)"
      ]
     },
     "execution_count": 11,
     "metadata": {},
     "output_type": "execute_result"
    }
   ],
   "source": [
    "# clones\n",
    "p1 is p3, p1 == p3"
   ]
  },
  {
   "cell_type": "code",
   "execution_count": 12,
   "id": "ea6b03db-93ba-4ef7-8faf-0ce5a050d9fc",
   "metadata": {},
   "outputs": [
    {
     "data": {
      "text/plain": [
       "(True, True)"
      ]
     },
     "execution_count": 12,
     "metadata": {},
     "output_type": "execute_result"
    }
   ],
   "source": [
    "p1 is not p3, p1 == p3"
   ]
  },
  {
   "cell_type": "code",
   "execution_count": 13,
   "id": "8bc1e053-fb39-4210-a8c8-7822ad956bfb",
   "metadata": {},
   "outputs": [
    {
     "name": "stdout",
     "output_type": "stream",
     "text": [
      "2048729359968 : A(1.5, 2.5)\n",
      "2048729359968 : A(1.5, 2.5)\n",
      "2048729365296 : A(1.5, 2.5)\n"
     ]
    }
   ],
   "source": [
    "for p in p1, p2, p3:\n",
    "    print(id(p), ':', p)"
   ]
  },
  {
   "cell_type": "code",
   "execution_count": 46,
   "id": "0b36a328-6e85-4aca-a5dd-75756ff4fca5",
   "metadata": {},
   "outputs": [
    {
     "name": "stdout",
     "output_type": "stream",
     "text": [
      "SKIP: A(1.5, 2.5)\n",
      "SKIP: B(-4.5, 5.5)#12.75\n",
      "SKIP: C(6.5, 7.5)@red\n",
      "SKIP: D(8.5, 12.25)#10.25@green\n",
      "C_1: perimeter=62.83185307179586 ; surface=314.1592653589793\n",
      "C_2: perimeter=125.66370614359172 ; surface=1256.6370614359173\n",
      "C_3: perimeter=188.49555921538757 ; surface=2827.4333882308138\n",
      "C_4: perimeter=251.32741228718345 ; surface=5026.548245743669\n"
     ]
    }
   ],
   "source": [
    "for f in forms:\n",
    "    match f:\n",
    "        case Mesurable2D():\n",
    "            p = f.perimeter()\n",
    "            s = f.surface()\n",
    "            print(f\"{f.name}: perimeter={p} ; surface={s}\")\n",
    "        case _:\n",
    "            print('SKIP:', f)"
   ]
  },
  {
   "cell_type": "markdown",
   "id": "373a5e58-c5b7-4f06-8bed-2d938bdc9f9c",
   "metadata": {},
   "source": [
    "## Exercise:\n",
    "total surface of all Mesurable2D objects in forms"
   ]
  }
 ],
 "metadata": {
  "kernelspec": {
   "display_name": "Python 3 (ipykernel)",
   "language": "python",
   "name": "python3"
  },
  "language_info": {
   "codemirror_mode": {
    "name": "ipython",
    "version": 3
   },
   "file_extension": ".py",
   "mimetype": "text/x-python",
   "name": "python",
   "nbconvert_exporter": "python",
   "pygments_lexer": "ipython3",
   "version": "3.12.3"
  }
 },
 "nbformat": 4,
 "nbformat_minor": 5
}

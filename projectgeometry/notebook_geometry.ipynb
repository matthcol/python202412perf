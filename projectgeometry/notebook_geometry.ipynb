{
 "cells": [
  {
   "cell_type": "markdown",
   "id": "4ea0327b-fc17-4ecc-924f-77a21b7755e2",
   "metadata": {},
   "source": [
    "# Geometry OOP"
   ]
  },
  {
   "cell_type": "code",
   "execution_count": 2,
   "id": "b356fb35-cbdf-4a7c-b439-b44b979daaaf",
   "metadata": {},
   "outputs": [],
   "source": [
    "import operator as op"
   ]
  },
  {
   "cell_type": "code",
   "execution_count": 3,
   "id": "431ed0b5-ff9e-4ef5-8ce4-61fb17d6f558",
   "metadata": {},
   "outputs": [],
   "source": [
    "%load_ext autoreload\n",
    "%autoreload 2"
   ]
  },
  {
   "cell_type": "code",
   "execution_count": 4,
   "id": "11ded0c0-3e50-45a9-892c-8a65f55f5596",
   "metadata": {},
   "outputs": [],
   "source": [
    "from point import Point\n",
    "from weightedpoint import WeightedPoint"
   ]
  },
  {
   "cell_type": "code",
   "execution_count": 5,
   "id": "7c396fa2-2795-4c8d-80a7-dadcca7bb911",
   "metadata": {},
   "outputs": [],
   "source": [
    "points = [\n",
    "    Point(name=\"A\", x=1.0, y=4.5),\n",
    "    Point(\"B\", 2.0, -10.0),\n",
    "    Point(\"C\", 0.5, 4.5),\n",
    "    Point(\"D\", 3.0, 6.5),\n",
    "    Point(\"E\", 3.0, -4.0),\n",
    "    Point(\"F\", -5.0, 0.0),\n",
    "]"
   ]
  },
  {
   "cell_type": "code",
   "execution_count": 6,
   "id": "79350ea4-1e82-45ae-bc55-faf0ff46496c",
   "metadata": {},
   "outputs": [
    {
     "data": {
      "text/plain": [
       "[Point(name='F', x=-5.0, y=0.0),\n",
       " Point(name='C', x=0.5, y=4.5),\n",
       " Point(name='A', x=1.0, y=4.5),\n",
       " Point(name='B', x=2.0, y=-10.0),\n",
       " Point(name='E', x=3.0, y=-4.0),\n",
       " Point(name='D', x=3.0, y=6.5)]"
      ]
     },
     "execution_count": 6,
     "metadata": {},
     "output_type": "execute_result"
    }
   ],
   "source": [
    "sorted(points)"
   ]
  },
  {
   "cell_type": "code",
   "execution_count": 7,
   "id": "3cbb3abe-6403-4e5b-8ac4-b4db36f03b9b",
   "metadata": {},
   "outputs": [
    {
     "data": {
      "text/plain": [
       "[Point(name='F', x=-5.0, y=0.0),\n",
       " Point(name='C', x=0.5, y=4.5),\n",
       " Point(name='A', x=1.0, y=4.5),\n",
       " Point(name='B', x=2.0, y=-10.0),\n",
       " Point(name='E', x=3.0, y=-4.0),\n",
       " Point(name='D', x=3.0, y=6.5)]"
      ]
     },
     "execution_count": 7,
     "metadata": {},
     "output_type": "execute_result"
    }
   ],
   "source": [
    "sorted(points, reverse=False)"
   ]
  },
  {
   "cell_type": "code",
   "execution_count": 8,
   "id": "d29f8387-0188-40ae-aede-0b3757ea4a31",
   "metadata": {},
   "outputs": [
    {
     "data": {
      "text/plain": [
       "[Point(name='A', x=1.0, y=4.5),\n",
       " Point(name='B', x=2.0, y=-10.0),\n",
       " Point(name='C', x=0.5, y=4.5),\n",
       " Point(name='D', x=3.0, y=6.5),\n",
       " Point(name='E', x=3.0, y=-4.0),\n",
       " Point(name='F', x=-5.0, y=0.0)]"
      ]
     },
     "execution_count": 8,
     "metadata": {},
     "output_type": "execute_result"
    }
   ],
   "source": [
    "sorted(points, key=lambda p: p.name)"
   ]
  },
  {
   "cell_type": "code",
   "execution_count": 9,
   "id": "e721ed6a-5442-43c9-8abe-162ce5ad767e",
   "metadata": {},
   "outputs": [
    {
     "data": {
      "text/plain": [
       "[Point(name='B', x=2.0, y=-10.0),\n",
       " Point(name='E', x=3.0, y=-4.0),\n",
       " Point(name='F', x=-5.0, y=0.0),\n",
       " Point(name='A', x=1.0, y=4.5),\n",
       " Point(name='C', x=0.5, y=4.5),\n",
       " Point(name='D', x=3.0, y=6.5)]"
      ]
     },
     "execution_count": 9,
     "metadata": {},
     "output_type": "execute_result"
    }
   ],
   "source": [
    "sorted(points, key=op.attrgetter('y'))"
   ]
  },
  {
   "cell_type": "code",
   "execution_count": 10,
   "id": "c70ed954-5707-428f-9a90-9ebe4898baf0",
   "metadata": {},
   "outputs": [
    {
     "data": {
      "text/plain": [
       "[Point(name='B', x=2.0, y=-10.0),\n",
       " Point(name='E', x=3.0, y=-4.0),\n",
       " Point(name='F', x=-5.0, y=0.0),\n",
       " Point(name='C', x=0.5, y=4.5),\n",
       " Point(name='A', x=1.0, y=4.5),\n",
       " Point(name='D', x=3.0, y=6.5)]"
      ]
     },
     "execution_count": 10,
     "metadata": {},
     "output_type": "execute_result"
    }
   ],
   "source": [
    "sorted(points, key=op.attrgetter('y', 'x'))"
   ]
  },
  {
   "cell_type": "code",
   "execution_count": 11,
   "id": "95e43d3b-f1ec-425a-af1e-dbc01e08507c",
   "metadata": {},
   "outputs": [
    {
     "data": {
      "text/plain": [
       "[Point(name='D', x=3.0, y=6.5),\n",
       " Point(name='C', x=0.5, y=4.5),\n",
       " Point(name='A', x=1.0, y=4.5),\n",
       " Point(name='F', x=-5.0, y=0.0),\n",
       " Point(name='E', x=3.0, y=-4.0),\n",
       " Point(name='B', x=2.0, y=-10.0)]"
      ]
     },
     "execution_count": 11,
     "metadata": {},
     "output_type": "execute_result"
    }
   ],
   "source": [
    "sorted(points, key=lambda p: (-p.y, p.x))"
   ]
  },
  {
   "cell_type": "code",
   "execution_count": 12,
   "id": "c3ed42b5-0e8d-4ace-b303-e0092713beaa",
   "metadata": {},
   "outputs": [
    {
     "data": {
      "text/plain": [
       "[Point(name='F', x=-5.0, y=0.0),\n",
       " Point(name='C', x=0.5, y=4.5),\n",
       " Point(name='A', x=1.0, y=4.5),\n",
       " Point(name='B', x=2.0, y=-10.0),\n",
       " Point(name='E', x=3.0, y=-4.0),\n",
       " Point(name='D', x=3.0, y=6.5)]"
      ]
     },
     "execution_count": 12,
     "metadata": {},
     "output_type": "execute_result"
    }
   ],
   "source": [
    "points.sort() # inplace sort\n",
    "points"
   ]
  },
  {
   "cell_type": "code",
   "execution_count": 13,
   "id": "f2c3d0dd-d6dc-483c-b7c3-dc8ba3644b04",
   "metadata": {},
   "outputs": [
    {
     "data": {
      "text/plain": [
       "Point(name='F', x=-5.0, y=0.0)"
      ]
     },
     "execution_count": 13,
     "metadata": {},
     "output_type": "execute_result"
    }
   ],
   "source": [
    "p = points[0]\n",
    "p"
   ]
  },
  {
   "cell_type": "code",
   "execution_count": 14,
   "id": "ea3fd150-e3bb-4255-a112-3b9974510578",
   "metadata": {},
   "outputs": [
    {
     "data": {
      "text/plain": [
       "Point(name='F', x=-1.5, y=3.5)"
      ]
     },
     "execution_count": 14,
     "metadata": {},
     "output_type": "execute_result"
    }
   ],
   "source": [
    "p += 3.5\n",
    "p"
   ]
  },
  {
   "cell_type": "code",
   "execution_count": 15,
   "id": "3de671c6-653b-41eb-9226-3ed4f7a934f6",
   "metadata": {},
   "outputs": [
    {
     "data": {
      "text/plain": [
       "Point(name='F', x=-0.5, y=2.5)"
      ]
     },
     "execution_count": 15,
     "metadata": {},
     "output_type": "execute_result"
    }
   ],
   "source": [
    "p += (1.0, -1.0)\n",
    "p"
   ]
  },
  {
   "cell_type": "code",
   "execution_count": 16,
   "id": "22e9fad7-7077-4928-a4c1-3e5efb2d13fd",
   "metadata": {},
   "outputs": [
    {
     "data": {
      "text/plain": [
       "Point(name='F', x=0.0, y=7.0)"
      ]
     },
     "execution_count": 16,
     "metadata": {},
     "output_type": "execute_result"
    }
   ],
   "source": [
    "p += points[1]\n",
    "p"
   ]
  },
  {
   "cell_type": "code",
   "execution_count": 17,
   "id": "519ef08d-6f9b-466f-a718-4c180dc174a4",
   "metadata": {},
   "outputs": [],
   "source": [
    "## TypeError: unsupported operand type(s) for +=: 'Point' and 'bool'\n",
    "#p += True"
   ]
  },
  {
   "cell_type": "code",
   "execution_count": 18,
   "id": "cc0466e5-580c-4eda-be6c-9f57f0b67e1c",
   "metadata": {},
   "outputs": [
    {
     "data": {
      "text/plain": [
       "Point(name='F', x=0.0, y=7.0)"
      ]
     },
     "execution_count": 18,
     "metadata": {},
     "output_type": "execute_result"
    }
   ],
   "source": [
    "p"
   ]
  },
  {
   "cell_type": "code",
   "execution_count": 19,
   "id": "34ca764d-5ce2-4f12-9d62-afcea3d428ae",
   "metadata": {},
   "outputs": [
    {
     "data": {
      "text/plain": [
       "Point(name='F', x=1.0, y=6.0)"
      ]
     },
     "execution_count": 19,
     "metadata": {},
     "output_type": "execute_result"
    }
   ],
   "source": [
    "p += Point('Z', 1.0, -1.0)\n",
    "p"
   ]
  },
  {
   "cell_type": "code",
   "execution_count": 20,
   "id": "ef41f2af-0d7b-45c8-b540-9a5143612198",
   "metadata": {},
   "outputs": [
    {
     "data": {
      "text/plain": [
       "Point(name='F', x=2.0, y=5.0)"
      ]
     },
     "execution_count": 20,
     "metadata": {},
     "output_type": "execute_result"
    }
   ],
   "source": [
    "p += WeightedPoint('Y', 1.0, -1.0, weight=4.0)\n",
    "p"
   ]
  },
  {
   "cell_type": "code",
   "execution_count": 21,
   "id": "3f8f76a5-92d4-4c13-a56f-bec20f6ec5fd",
   "metadata": {},
   "outputs": [
    {
     "data": {
      "text/plain": [
       "Point(name='F', x=7.0, y=10.0)"
      ]
     },
     "execution_count": 21,
     "metadata": {},
     "output_type": "execute_result"
    }
   ],
   "source": [
    "p += 5\n",
    "p"
   ]
  }
 ],
 "metadata": {
  "kernelspec": {
   "display_name": "Python 3 (ipykernel)",
   "language": "python",
   "name": "python3"
  },
  "language_info": {
   "codemirror_mode": {
    "name": "ipython",
    "version": 3
   },
   "file_extension": ".py",
   "mimetype": "text/x-python",
   "name": "python",
   "nbconvert_exporter": "python",
   "pygments_lexer": "ipython3",
   "version": "3.12.3"
  }
 },
 "nbformat": 4,
 "nbformat_minor": 5
}

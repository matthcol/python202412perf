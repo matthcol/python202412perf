{
 "cells": [
  {
   "cell_type": "markdown",
   "id": "3999e441-cb02-487e-b9b4-7da3f5546a8c",
   "metadata": {},
   "source": [
    "# OOP"
   ]
  },
  {
   "cell_type": "code",
   "execution_count": 2,
   "id": "f4ccb49d-bcda-47d9-b5c8-9e9aa948371d",
   "metadata": {},
   "outputs": [],
   "source": [
    "from dataclasses import dataclass"
   ]
  },
  {
   "cell_type": "markdown",
   "id": "93de19cf-f9c1-447a-8906-b0dd43b7462c",
   "metadata": {},
   "source": [
    "## class written with @dataclass\n",
    "NB: see also external library pydantic"
   ]
  },
  {
   "cell_type": "code",
   "execution_count": 4,
   "id": "4ae06015-aa3a-45ba-81f3-163f01fc6d69",
   "metadata": {},
   "outputs": [
    {
     "name": "stdout",
     "output_type": "stream",
     "text": [
      "{'name': 'Toulouse', 'population': 477000}\n"
     ]
    },
    {
     "data": {
      "text/plain": [
       "City(name='Toulouse', population=477000)"
      ]
     },
     "execution_count": 4,
     "metadata": {},
     "output_type": "execute_result"
    }
   ],
   "source": [
    "@dataclass\n",
    "class City:\n",
    "    name: str\n",
    "    population: int\n",
    "\n",
    "c = City('Toulouse', 477_000)\n",
    "print(c.__dict__)\n",
    "c"
   ]
  },
  {
   "cell_type": "code",
   "execution_count": 5,
   "id": "5d66cefd-af4c-4221-b348-404d08b40586",
   "metadata": {},
   "outputs": [],
   "source": [
    "c2 = City(name='Pau', population=77_000)"
   ]
  },
  {
   "cell_type": "code",
   "execution_count": 6,
   "id": "6ffba34c-5acf-4ae4-b10e-b33ce59e7440",
   "metadata": {},
   "outputs": [
    {
     "data": {
      "text/plain": [
       "'Pau'"
      ]
     },
     "execution_count": 6,
     "metadata": {},
     "output_type": "execute_result"
    }
   ],
   "source": [
    "c2.name"
   ]
  },
  {
   "cell_type": "code",
   "execution_count": 7,
   "id": "b71ab680-8bd8-4fc3-8cec-3abdbd6f9196",
   "metadata": {},
   "outputs": [],
   "source": [
    "assert isinstance(c, City)\n",
    "assert isinstance(c, object)"
   ]
  },
  {
   "cell_type": "markdown",
   "id": "eb5ea229-e592-4333-a83b-83efcba68d68",
   "metadata": {},
   "source": [
    "## classic Class development"
   ]
  },
  {
   "cell_type": "code",
   "execution_count": 9,
   "id": "4c1d220a-a314-4abe-800d-b5b0c0d1ac88",
   "metadata": {},
   "outputs": [
    {
     "name": "stdout",
     "output_type": "stream",
     "text": [
      "Person(John, Doe)\n"
     ]
    },
    {
     "data": {
      "text/plain": [
       "Person(John, Doe)"
      ]
     },
     "execution_count": 9,
     "metadata": {},
     "output_type": "execute_result"
    }
   ],
   "source": [
    "class Person:\n",
    "    def __init__(self, firstname, lastname):\n",
    "        self.firstname = firstname\n",
    "        self.lastname = lastname\n",
    "\n",
    "    # impl both str and repr\n",
    "    def __repr__(self):\n",
    "        return f\"Person({self.firstname}, {self.lastname})\"\n",
    "\n",
    "p = Person('John', 'Doe')\n",
    "print(p)\n",
    "p"
   ]
  },
  {
   "cell_type": "code",
   "execution_count": 10,
   "id": "1ddcf909-cd17-4101-8911-2c7d6a9d231c",
   "metadata": {},
   "outputs": [
    {
     "data": {
      "text/plain": [
       "'John'"
      ]
     },
     "execution_count": 10,
     "metadata": {},
     "output_type": "execute_result"
    }
   ],
   "source": [
    "p.firstname"
   ]
  },
  {
   "cell_type": "code",
   "execution_count": 11,
   "id": "17cfe17e-0445-4bc8-8901-0e7cf2bd5857",
   "metadata": {},
   "outputs": [],
   "source": [
    "assert isinstance(p, Person)\n",
    "assert isinstance(p, object)"
   ]
  },
  {
   "cell_type": "code",
   "execution_count": 12,
   "id": "8464e5e3-7085-43bb-9816-805d90663189",
   "metadata": {},
   "outputs": [],
   "source": [
    "object = object()\n",
    "print = 4"
   ]
  },
  {
   "cell_type": "code",
   "execution_count": 13,
   "id": "cb1742ab-e4c3-4871-98a2-2c6353b75de7",
   "metadata": {},
   "outputs": [
    {
     "data": {
      "text/plain": [
       "<object at 0x194e3495570>"
      ]
     },
     "execution_count": 13,
     "metadata": {},
     "output_type": "execute_result"
    }
   ],
   "source": [
    "object"
   ]
  },
  {
   "cell_type": "code",
   "execution_count": 26,
   "id": "f8513d52-bff5-42ab-a9d3-a8b461963d97",
   "metadata": {},
   "outputs": [],
   "source": [
    "# print(object)"
   ]
  },
  {
   "cell_type": "code",
   "execution_count": 28,
   "id": "186477b0-44ee-483c-a77c-cdf43fc59082",
   "metadata": {},
   "outputs": [],
   "source": [
    "del object\n",
    "del print"
   ]
  },
  {
   "cell_type": "code",
   "execution_count": 30,
   "id": "7cb11baa-a9f8-4ec8-8745-7ee9a416de50",
   "metadata": {},
   "outputs": [
    {
     "data": {
      "text/plain": [
       "object"
      ]
     },
     "execution_count": 30,
     "metadata": {},
     "output_type": "execute_result"
    }
   ],
   "source": [
    "object"
   ]
  },
  {
   "cell_type": "code",
   "execution_count": 32,
   "id": "4bb04f01-c54a-4dc2-b74e-15a48998ee33",
   "metadata": {},
   "outputs": [
    {
     "data": {
      "text/plain": [
       "<function print(*args, sep=' ', end='\\n', file=None, flush=False)>"
      ]
     },
     "execution_count": 32,
     "metadata": {},
     "output_type": "execute_result"
    }
   ],
   "source": [
    "print"
   ]
  }
 ],
 "metadata": {
  "kernelspec": {
   "display_name": "Python 3 (ipykernel)",
   "language": "python",
   "name": "python3"
  },
  "language_info": {
   "codemirror_mode": {
    "name": "ipython",
    "version": 3
   },
   "file_extension": ".py",
   "mimetype": "text/x-python",
   "name": "python",
   "nbconvert_exporter": "python",
   "pygments_lexer": "ipython3",
   "version": "3.12.3"
  }
 },
 "nbformat": 4,
 "nbformat_minor": 5
}

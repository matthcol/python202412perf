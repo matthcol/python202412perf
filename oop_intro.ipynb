{
 "cells": [
  {
   "cell_type": "markdown",
   "id": "3999e441-cb02-487e-b9b4-7da3f5546a8c",
   "metadata": {},
   "source": [
    "# OOP"
   ]
  },
  {
   "cell_type": "code",
   "execution_count": 31,
   "id": "f4ccb49d-bcda-47d9-b5c8-9e9aa948371d",
   "metadata": {},
   "outputs": [],
   "source": [
    "from dataclasses import dataclass\n",
    "from datetime import datetime, date"
   ]
  },
  {
   "cell_type": "markdown",
   "id": "93de19cf-f9c1-447a-8906-b0dd43b7462c",
   "metadata": {},
   "source": [
    "## class written with @dataclass\n",
    "NB: see also external library pydantic"
   ]
  },
  {
   "cell_type": "code",
   "execution_count": 4,
   "id": "4ae06015-aa3a-45ba-81f3-163f01fc6d69",
   "metadata": {},
   "outputs": [
    {
     "name": "stdout",
     "output_type": "stream",
     "text": [
      "{'name': 'Toulouse', 'population': 477000}\n"
     ]
    },
    {
     "data": {
      "text/plain": [
       "City(name='Toulouse', population=477000)"
      ]
     },
     "execution_count": 4,
     "metadata": {},
     "output_type": "execute_result"
    }
   ],
   "source": [
    "@dataclass\n",
    "class City:\n",
    "    name: str\n",
    "    population: int\n",
    "\n",
    "c = City('Toulouse', 477_000)\n",
    "print(c.__dict__)\n",
    "c"
   ]
  },
  {
   "cell_type": "code",
   "execution_count": 5,
   "id": "5d66cefd-af4c-4221-b348-404d08b40586",
   "metadata": {},
   "outputs": [],
   "source": [
    "c2 = City(name='Pau', population=77_000)"
   ]
  },
  {
   "cell_type": "code",
   "execution_count": 6,
   "id": "6ffba34c-5acf-4ae4-b10e-b33ce59e7440",
   "metadata": {},
   "outputs": [
    {
     "data": {
      "text/plain": [
       "'Pau'"
      ]
     },
     "execution_count": 6,
     "metadata": {},
     "output_type": "execute_result"
    }
   ],
   "source": [
    "c2.name"
   ]
  },
  {
   "cell_type": "code",
   "execution_count": 7,
   "id": "b71ab680-8bd8-4fc3-8cec-3abdbd6f9196",
   "metadata": {},
   "outputs": [],
   "source": [
    "assert isinstance(c, City)\n",
    "assert isinstance(c, object)"
   ]
  },
  {
   "cell_type": "markdown",
   "id": "eb5ea229-e592-4333-a83b-83efcba68d68",
   "metadata": {},
   "source": [
    "## classic Class development"
   ]
  },
  {
   "cell_type": "code",
   "execution_count": 9,
   "id": "4c1d220a-a314-4abe-800d-b5b0c0d1ac88",
   "metadata": {},
   "outputs": [
    {
     "name": "stdout",
     "output_type": "stream",
     "text": [
      "Person(John, Doe)\n"
     ]
    },
    {
     "data": {
      "text/plain": [
       "Person(John, Doe)"
      ]
     },
     "execution_count": 9,
     "metadata": {},
     "output_type": "execute_result"
    }
   ],
   "source": [
    "class Person:\n",
    "    def __init__(self, firstname, lastname):\n",
    "        self.firstname = firstname\n",
    "        self.lastname = lastname\n",
    "\n",
    "    # impl both str and repr\n",
    "    def __repr__(self):\n",
    "        return f\"Person({self.firstname}, {self.lastname})\"\n",
    "\n",
    "p = Person('John', 'Doe')\n",
    "print(p)\n",
    "p"
   ]
  },
  {
   "cell_type": "code",
   "execution_count": 10,
   "id": "1ddcf909-cd17-4101-8911-2c7d6a9d231c",
   "metadata": {},
   "outputs": [
    {
     "data": {
      "text/plain": [
       "'John'"
      ]
     },
     "execution_count": 10,
     "metadata": {},
     "output_type": "execute_result"
    }
   ],
   "source": [
    "p.firstname"
   ]
  },
  {
   "cell_type": "code",
   "execution_count": 11,
   "id": "17cfe17e-0445-4bc8-8901-0e7cf2bd5857",
   "metadata": {},
   "outputs": [],
   "source": [
    "assert isinstance(p, Person)\n",
    "assert isinstance(p, object)"
   ]
  },
  {
   "cell_type": "code",
   "execution_count": 12,
   "id": "8464e5e3-7085-43bb-9816-805d90663189",
   "metadata": {},
   "outputs": [],
   "source": [
    "object = object()\n",
    "print = 4"
   ]
  },
  {
   "cell_type": "code",
   "execution_count": 13,
   "id": "cb1742ab-e4c3-4871-98a2-2c6353b75de7",
   "metadata": {},
   "outputs": [
    {
     "data": {
      "text/plain": [
       "<object at 0x19d72fb55a0>"
      ]
     },
     "execution_count": 13,
     "metadata": {},
     "output_type": "execute_result"
    }
   ],
   "source": [
    "object"
   ]
  },
  {
   "cell_type": "code",
   "execution_count": 14,
   "id": "f8513d52-bff5-42ab-a9d3-a8b461963d97",
   "metadata": {},
   "outputs": [],
   "source": [
    "# print(object)"
   ]
  },
  {
   "cell_type": "code",
   "execution_count": 15,
   "id": "186477b0-44ee-483c-a77c-cdf43fc59082",
   "metadata": {},
   "outputs": [],
   "source": [
    "del object\n",
    "del print"
   ]
  },
  {
   "cell_type": "code",
   "execution_count": 16,
   "id": "7cb11baa-a9f8-4ec8-8745-7ee9a416de50",
   "metadata": {},
   "outputs": [
    {
     "data": {
      "text/plain": [
       "object"
      ]
     },
     "execution_count": 16,
     "metadata": {},
     "output_type": "execute_result"
    }
   ],
   "source": [
    "object"
   ]
  },
  {
   "cell_type": "code",
   "execution_count": 17,
   "id": "4bb04f01-c54a-4dc2-b74e-15a48998ee33",
   "metadata": {},
   "outputs": [
    {
     "data": {
      "text/plain": [
       "<function print(*args, sep=' ', end='\\n', file=None, flush=False)>"
      ]
     },
     "execution_count": 17,
     "metadata": {},
     "output_type": "execute_result"
    }
   ],
   "source": [
    "print"
   ]
  },
  {
   "cell_type": "markdown",
   "id": "40037730-adce-47e3-b3b3-e2b733c9cad8",
   "metadata": {},
   "source": [
    "## class methods"
   ]
  },
  {
   "cell_type": "code",
   "execution_count": 33,
   "id": "b250ca2e-dc5c-4deb-b089-d6c390926061",
   "metadata": {},
   "outputs": [
    {
     "data": {
      "text/plain": [
       "[str, object]"
      ]
     },
     "execution_count": 33,
     "metadata": {},
     "output_type": "execute_result"
    }
   ],
   "source": [
    "str.mro()"
   ]
  },
  {
   "cell_type": "code",
   "execution_count": 45,
   "id": "b671c42e-aef0-4a8c-8580-3839b54d18af",
   "metadata": {},
   "outputs": [
    {
     "name": "stdout",
     "output_type": "stream",
     "text": [
      "2024-12-12 17:00:00\n",
      "2024-12-10 11:35:24.422310\n",
      "2024-02-29 12:30:25\n",
      "2024-02-29 12:30:00\n"
     ]
    }
   ],
   "source": [
    "# constructor\n",
    "dt1 = datetime(2024, 12, 12, 17)\n",
    "\n",
    "# class method\n",
    "dt2 = datetime.now()\n",
    "dt3 = datetime.fromisoformat('2024-02-29 12:30:25')\n",
    "dt4 = datetime.strptime('29/02/2024 12:30', '%d/%m/%Y %H:%M')\n",
    "\n",
    "for dt in dt1, dt2, dt3, dt4:\n",
    "    print(dt)"
   ]
  },
  {
   "cell_type": "markdown",
   "id": "a83c546f-a058-402b-94c9-25899a29c01c",
   "metadata": {},
   "source": [
    "## dynamic add/remove attributes"
   ]
  },
  {
   "cell_type": "code",
   "execution_count": 3,
   "id": "01355d3a-a7ca-4cee-8fe0-fff079b63744",
   "metadata": {},
   "outputs": [],
   "source": [
    "class Person:\n",
    "    def __init__(self, name: str):\n",
    "        self.name = name"
   ]
  },
  {
   "cell_type": "code",
   "execution_count": 5,
   "id": "6b14d418-d3b9-4d0e-b4b1-5d408036c4e2",
   "metadata": {},
   "outputs": [
    {
     "data": {
      "text/plain": [
       "'titi'"
      ]
     },
     "execution_count": 5,
     "metadata": {},
     "output_type": "execute_result"
    }
   ],
   "source": [
    "p = Person('titi')\n",
    "p.name"
   ]
  },
  {
   "cell_type": "code",
   "execution_count": 7,
   "id": "b8da4e64-4763-4807-b3fb-da26127aedfa",
   "metadata": {},
   "outputs": [
    {
     "data": {
      "text/plain": [
       "('titi', 'Toulouse')"
      ]
     },
     "execution_count": 7,
     "metadata": {},
     "output_type": "execute_result"
    }
   ],
   "source": [
    "p.city = 'Toulouse'\n",
    "p.name, p.city"
   ]
  },
  {
   "cell_type": "code",
   "execution_count": 9,
   "id": "34a79927-589d-4fa3-a021-7def63330f5e",
   "metadata": {},
   "outputs": [],
   "source": [
    "del p.city"
   ]
  },
  {
   "cell_type": "code",
   "execution_count": 13,
   "id": "adf0b5a0-f951-4565-8e43-f1c16603363c",
   "metadata": {},
   "outputs": [],
   "source": [
    "## AttributeError: 'Person' object has no attribute 'city'\n",
    "# p.city"
   ]
  },
  {
   "cell_type": "code",
   "execution_count": 15,
   "id": "2fda3384-ce26-44af-b13a-be64d09d5323",
   "metadata": {},
   "outputs": [],
   "source": [
    "del p.name"
   ]
  },
  {
   "cell_type": "code",
   "execution_count": 19,
   "id": "c57c7a20-0f78-422b-aebe-89d5e8d3cd47",
   "metadata": {},
   "outputs": [],
   "source": [
    "## AttributeError: 'Person' object has no attribute 'name'\n",
    "# p.name"
   ]
  },
  {
   "cell_type": "code",
   "execution_count": 21,
   "id": "0f24a9e6-d133-4535-a387-18970f2dcff9",
   "metadata": {},
   "outputs": [],
   "source": [
    "class Person:\n",
    "    __slots__ = ['name']\n",
    "    \n",
    "    def __init__(self, name: str):\n",
    "        self.name = name"
   ]
  },
  {
   "cell_type": "code",
   "execution_count": 27,
   "id": "d229fe81-5a92-4530-8ace-d319bbc86e6e",
   "metadata": {},
   "outputs": [],
   "source": [
    "p = Person('toto')\n",
    "\n",
    "## dynamic add is not possible\n",
    "# AttributeError: 'Person' object has no attribute 'city'\n",
    "## p.city = 'Toulouse'\n",
    "\n",
    "## stiil possible\n",
    "del p.name"
   ]
  },
  {
   "cell_type": "code",
   "execution_count": 35,
   "id": "17d03fb3-3a2a-4ef3-95d7-4250f0da0b8d",
   "metadata": {},
   "outputs": [],
   "source": [
    "@dataclass(slots=True)\n",
    "class Person:\n",
    "    name: str"
   ]
  },
  {
   "cell_type": "code",
   "execution_count": 39,
   "id": "4515d1d9-6395-449e-899c-25b39a5a01cd",
   "metadata": {},
   "outputs": [],
   "source": [
    "p = Person('tutu')\n",
    "\n",
    "## NB: slots=True blocks new attributes\n",
    "## AttributeError: 'Person' object has no attribute 'city'\n",
    "#p.city = 'Toulouse'\n",
    "\n",
    "del p.name"
   ]
  },
  {
   "cell_type": "code",
   "execution_count": 53,
   "id": "11a5e8e3-88a1-40e0-8616-72ebc29f4b01",
   "metadata": {},
   "outputs": [],
   "source": [
    "class Person:\n",
    "    __slots__ = ['_name']\n",
    "    \n",
    "    def __init__(self, name:str):\n",
    "        self._name = name\n",
    "\n",
    "    @property\n",
    "    def name(self):\n",
    "        \"\"\"name of the person\"\"\"\n",
    "        return self._name\n",
    "\n",
    "    @name.setter\n",
    "    def name(self, value):\n",
    "        self._name = value\n",
    "\n",
    "    # @name.deleter\n",
    "    # def name(self):\n",
    "    #     del self._name"
   ]
  },
  {
   "cell_type": "code",
   "execution_count": 61,
   "id": "96dc9322-11e6-43dc-bb9e-51bf976f6eb5",
   "metadata": {},
   "outputs": [
    {
     "name": "stdout",
     "output_type": "stream",
     "text": [
      "tutu\n",
      "titi\n"
     ]
    }
   ],
   "source": [
    "p = Person('tutu')\n",
    "\n",
    "## NB: slots=True blocks new attributes\n",
    "## AttributeError: 'Person' object has no attribute 'city'\n",
    "# p.city = 'Toulouse'\n",
    "\n",
    "## AttributeError: property 'name' of 'Person' object has no deleter\n",
    "# del p.name\n",
    "\n",
    "print(p.name)\n",
    "p.name = 'titi'\n",
    "print(p.name)"
   ]
  }
 ],
 "metadata": {
  "kernelspec": {
   "display_name": "Python 3 (ipykernel)",
   "language": "python",
   "name": "python3"
  },
  "language_info": {
   "codemirror_mode": {
    "name": "ipython",
    "version": 3
   },
   "file_extension": ".py",
   "mimetype": "text/x-python",
   "name": "python",
   "nbconvert_exporter": "python",
   "pygments_lexer": "ipython3",
   "version": "3.12.3"
  }
 },
 "nbformat": 4,
 "nbformat_minor": 5
}

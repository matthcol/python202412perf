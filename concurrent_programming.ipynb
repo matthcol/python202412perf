{
 "cells": [
  {
   "cell_type": "markdown",
   "id": "7987e9d0-9d51-4c34-8ee5-c52c9ed98c6b",
   "metadata": {},
   "source": [
    "# Concurrent Programming\n",
    "\n",
    "In Python std lib:\n",
    "- async programming (python 3.6): async/await\n",
    "    - Example: FastAPI\n",
    "- multi-threading (GIL lock)\n",
    "- multi-processing\n",
    "\n",
    "https://docs.python.org/3/library/concurrency.html\n",
    "\n",
    "External libraries: Numeric + Data Science + AI (CPU/GPU)"
   ]
  },
  {
   "cell_type": "markdown",
   "id": "a8abe629-4310-47bd-90ed-b32820965bee",
   "metadata": {},
   "source": [
    "## Example with thread pool and future"
   ]
  },
  {
   "cell_type": "code",
   "execution_count": 38,
   "id": "74f6af3e-036e-4ce2-bbee-f742d362d761",
   "metadata": {},
   "outputs": [
    {
     "name": "stdout",
     "output_type": "stream",
     "text": [
      "'http://nonexistent-subdomain.python.org/' generated an exception: <urlopen error [Errno 11001] getaddrinfo failed>\n",
      "'http://www.bbc.co.uk/' page is 568581 bytes\n",
      "'http://europe.wsj.com/' generated an exception: HTTP Error 403: Forbidden\n",
      "'http://www.foxnews.com/' page is 701473 bytes\n",
      "'http://www.cnn.com/' page is 3432124 bytes\n"
     ]
    }
   ],
   "source": [
    "import concurrent.futures\n",
    "import urllib.request\n",
    "\n",
    "URLS = ['http://www.foxnews.com/',\n",
    "        'http://www.cnn.com/',\n",
    "        'http://europe.wsj.com/',\n",
    "        'http://www.bbc.co.uk/',\n",
    "        'http://nonexistent-subdomain.python.org/']\n",
    "\n",
    "# Retrieve a single page and report the URL and contents\n",
    "def load_url(url, timeout):\n",
    "    with urllib.request.urlopen(url, timeout=timeout) as conn:\n",
    "        return conn.read()\n",
    "\n",
    "# We can use a with statement to ensure threads are cleaned up promptly\n",
    "with concurrent.futures.ThreadPoolExecutor(max_workers=5) as executor:\n",
    "    # Start the load operations and mark each future with its URL\n",
    "    # NB: jobs are handled with a dictionnary\n",
    "    # - key: job (future)\n",
    "    # - value: url for this job\n",
    "    future_to_url = {executor.submit(load_url, url, 60): url for url in URLS}\n",
    "\n",
    "    # wait for the completion of each job int the completion order\n",
    "    for future in concurrent.futures.as_completed(future_to_url):\n",
    "        url = future_to_url[future]\n",
    "        try:\n",
    "            data = future.result()\n",
    "        except Exception as exc:\n",
    "            print('%r generated an exception: %s' % (url, exc))\n",
    "        else:\n",
    "            print('%r page is %d bytes' % (url, len(data)))"
   ]
  },
  {
   "cell_type": "code",
   "execution_count": 12,
   "id": "85ca022f-e3a9-4745-b767-dc17c3ecb09e",
   "metadata": {},
   "outputs": [
    {
     "name": "stdout",
     "output_type": "stream",
     "text": [
      "3447255\n",
      "b'  <!DOCTYPE html>\\n<html lang=\"en\" data-uri=\"cms.cn'\n"
     ]
    }
   ],
   "source": [
    "page = load_url(URLS[1], 60)\n",
    "print(len(page))\n",
    "print(page[:50])"
   ]
  },
  {
   "cell_type": "code",
   "execution_count": 16,
   "id": "c40af467-13ba-4b97-a539-7f85231e3ea2",
   "metadata": {},
   "outputs": [
    {
     "data": {
      "text/plain": [
       "<concurrent.futures.thread.ThreadPoolExecutor at 0x1a3b2675fd0>"
      ]
     },
     "execution_count": 16,
     "metadata": {},
     "output_type": "execute_result"
    }
   ],
   "source": [
    "# pool of 5 threads\n",
    "executor = concurrent.futures.ThreadPoolExecutor(max_workers=5)\n",
    "executor"
   ]
  },
  {
   "cell_type": "code",
   "execution_count": 20,
   "id": "249b4f7c-8972-48e8-a14d-72f863006939",
   "metadata": {},
   "outputs": [
    {
     "data": {
      "text/plain": [
       "<Future at 0x1a3b4754560 state=pending>"
      ]
     },
     "execution_count": 20,
     "metadata": {},
     "output_type": "execute_result"
    }
   ],
   "source": [
    "# submit 1 job\n",
    "job = executor.submit(load_url, URLS[1], 60)\n",
    "job"
   ]
  },
  {
   "cell_type": "code",
   "execution_count": 22,
   "id": "4e584c01-781d-4b2b-9cf0-f422451251ab",
   "metadata": {},
   "outputs": [
    {
     "data": {
      "text/plain": [
       "<Future at 0x1a3b4754560 state=finished returned bytes>"
      ]
     },
     "execution_count": 22,
     "metadata": {},
     "output_type": "execute_result"
    }
   ],
   "source": [
    "job"
   ]
  },
  {
   "cell_type": "code",
   "execution_count": 24,
   "id": "aef484d0-019a-4d50-9cff-63e23b0f5503",
   "metadata": {},
   "outputs": [
    {
     "name": "stdout",
     "output_type": "stream",
     "text": [
      "b'  <!DOCTYPE html>\\n<html lang=\"en\" data-uri=\"cms.cn'\n"
     ]
    }
   ],
   "source": [
    "# wait and fetch result\n",
    "page = job.result()\n",
    "print(page[:50])"
   ]
  },
  {
   "cell_type": "code",
   "execution_count": 28,
   "id": "51f5e1f6-1ac1-4391-9f75-ca23f6a6c09d",
   "metadata": {
    "collapsed": true,
    "jupyter": {
     "outputs_hidden": true
    },
    "scrolled": true
   },
   "outputs": [
    {
     "name": "stdout",
     "output_type": "stream",
     "text": [
      "Jobs submitted: [<Future at 0x1a3b46ecda0 state=pending>, <Future at 0x1a3b5f22330 state=pending>, <Future at 0x1a3b5f20e00 state=pending>]\n",
      "\n",
      "Results:\n",
      "b'<!DOCTYPE html><html lang=\"en\"><head>\\n\\n  <meta charset=\"utf-8\">\\n<meta http-equiv=\"X-UA-Compatible\" content=\"IE=edge\">\\n<meta name=\"viewport\" content=\"width=device-width, minimum-scale=1, initial-scale='\n",
      "\n",
      "b'  <!DOCTYPE html>\\n<html lang=\"en\" data-uri=\"cms.cnn.com/_pages/clg35wfph000047qb0ndy7s77@published\" data-layout-uri=\"cms.cnn.com/_layouts/layout-homepage/instances/homepage-international@published\" >\\n'\n",
      "\n",
      "b'<!DOCTYPE html><html lang=\"en-GB\" class=\"no-js\"><head><meta charSet=\"utf-8\" /><meta name=\"viewport\" content=\"width=device-width, initial-scale=1\" /><title data-rh=\"true\">BBC - Home</title><meta data-r'\n",
      "\n"
     ]
    }
   ],
   "source": [
    "urls_ok = [URLS[0], URLS[1], URLS[3]]\n",
    "jobs = []\n",
    "\n",
    "# submit all jobs\n",
    "for url in urls_ok:\n",
    "    jobs.append(executor.submit(load_url, url=url, timeout=60))\n",
    "print('Jobs submitted:', jobs)\n",
    "print()\n",
    "\n",
    "# wait for all results\n",
    "pages = [ job.result() for job in jobs ]\n",
    "print('Results:')\n",
    "for page in pages:\n",
    "    print(page[:200])\n",
    "    print()\n",
    "    \n",
    "    "
   ]
  },
  {
   "cell_type": "code",
   "execution_count": 34,
   "id": "f2d230ba-6264-41c3-a894-863dcefb8dac",
   "metadata": {
    "collapsed": true,
    "jupyter": {
     "outputs_hidden": true
    }
   },
   "outputs": [
    {
     "name": "stdout",
     "output_type": "stream",
     "text": [
      "b'<!DOCTYPE html><html lang=\"en\"><head>\\n\\n  <meta charset=\"utf-8\">\\n<meta http-equiv=\"X-UA-Compatible\" content=\"IE=edge\">\\n<meta name=\"viewport\" content=\"width=device-width, minimum-scale=1, initial-scale='\n",
      "\n",
      "b'  <!DOCTYPE html>\\n<html lang=\"en\" data-uri=\"cms.cnn.com/_pages/clg35wfph000047qb0ndy7s77@published\" data-layout-uri=\"cms.cnn.com/_layouts/layout-homepage/instances/homepage-international@published\" >\\n'\n",
      "\n",
      "b'<!DOCTYPE html><html lang=\"en-GB\" class=\"no-js\"><head><meta charSet=\"utf-8\" /><meta name=\"viewport\" content=\"width=device-width, initial-scale=1\" /><title data-rh=\"true\">BBC - Home</title><meta data-r'\n",
      "\n"
     ]
    }
   ],
   "source": [
    "pages = executor.map(\n",
    "    lambda url: load_url(url, 60),\n",
    "    urls_ok\n",
    ")\n",
    "\n",
    "for page in pages:\n",
    "    print(page[:200])\n",
    "    print()"
   ]
  },
  {
   "cell_type": "code",
   "execution_count": null,
   "id": "9d40a12b-bad2-4aaf-9f8f-f48e14d23b0f",
   "metadata": {},
   "outputs": [],
   "source": [
    "executor.shutdown()"
   ]
  },
  {
   "cell_type": "markdown",
   "id": "5f16e391-935f-4e89-ae8f-eef93beb3b5b",
   "metadata": {},
   "source": [
    "## GIL Lock\n",
    "until python 3.12, a lock is created (GIL) on the HEAP"
   ]
  },
  {
   "cell_type": "code",
   "execution_count": 45,
   "id": "c4630d99-21b5-42a7-9ca5-99aaa4032863",
   "metadata": {},
   "outputs": [],
   "source": [
    "n = 100_000\n",
    "data = list(range(n))"
   ]
  },
  {
   "cell_type": "code",
   "execution_count": 49,
   "id": "bb92ea3d-70a1-4653-8cbb-681520f7fa79",
   "metadata": {},
   "outputs": [
    {
     "name": "stdout",
     "output_type": "stream",
     "text": [
      "[49995000, 149995000, 249995000, 349995000, 449995000, 549995000, 649995000, 749995000, 849995000, 949995000]\n"
     ]
    }
   ],
   "source": [
    "with concurrent.futures.ThreadPoolExecutor(max_workers=5) as executor:\n",
    "    nb_job = 10\n",
    "    chunk_size = n // nb_job\n",
    "    jobs = []\n",
    "    # submit jobs\n",
    "    for i in range(nb_job):\n",
    "        job = executor.submit(\n",
    "            lambda i: sum(data[i*chunk_size:(i+1)*chunk_size]),\n",
    "            i\n",
    "        )\n",
    "        jobs.append(job)\n",
    "    # wait for results\n",
    "    results = [job.result() for job in jobs]\n",
    "print(results)"
   ]
  },
  {
   "cell_type": "code",
   "execution_count": 51,
   "id": "32237d6e-1489-4c4a-856b-f092594bf903",
   "metadata": {},
   "outputs": [],
   "source": [
    "def concurrent_sum(data):\n",
    "    n = len(data)\n",
    "    with concurrent.futures.ThreadPoolExecutor(max_workers=5) as executor:\n",
    "        nb_job = 10\n",
    "        chunk_size = n // nb_job\n",
    "        jobs = []\n",
    "        # submit jobs\n",
    "        for i in range(nb_job):\n",
    "            job = executor.submit(\n",
    "                lambda i: sum(data[i*chunk_size:(i+1)*chunk_size]),\n",
    "                i\n",
    "            )\n",
    "            jobs.append(job)\n",
    "        # wait for results\n",
    "        return [job.result() for job in jobs]"
   ]
  },
  {
   "cell_type": "code",
   "execution_count": 53,
   "id": "186e8a0a-8988-4941-bdf9-7ba8f85e7b51",
   "metadata": {},
   "outputs": [
    {
     "name": "stdout",
     "output_type": "stream",
     "text": [
      "3.29 ms ± 644 μs per loop (mean ± std. dev. of 7 runs, 100 loops each)\n"
     ]
    }
   ],
   "source": [
    "%timeit concurrent_sum(data)"
   ]
  },
  {
   "cell_type": "code",
   "execution_count": 55,
   "id": "5a49d0e4-60f4-46cc-9c84-ca4d0229a5f9",
   "metadata": {},
   "outputs": [
    {
     "name": "stdout",
     "output_type": "stream",
     "text": [
      "1.95 ms ± 283 μs per loop (mean ± std. dev. of 7 runs, 100 loops each)\n"
     ]
    }
   ],
   "source": [
    "%timeit sum(data)"
   ]
  },
  {
   "cell_type": "markdown",
   "id": "1536a1c6-31c3-4752-b185-f770331bd03e",
   "metadata": {},
   "source": [
    "concurrent version is less efficient due to GIL lock (+ distribution overhead)"
   ]
  },
  {
   "cell_type": "markdown",
   "id": "63935cde-74e0-4df6-a83e-b73ee723601e",
   "metadata": {},
   "source": [
    "## async/await\n",
    "Example: FastApi\n",
    "\n",
    "https://fastapi.tiangolo.com/async/"
   ]
  }
 ],
 "metadata": {
  "kernelspec": {
   "display_name": "Python 3 (ipykernel)",
   "language": "python",
   "name": "python3"
  },
  "language_info": {
   "codemirror_mode": {
    "name": "ipython",
    "version": 3
   },
   "file_extension": ".py",
   "mimetype": "text/x-python",
   "name": "python",
   "nbconvert_exporter": "python",
   "pygments_lexer": "ipython3",
   "version": "3.12.3"
  }
 },
 "nbformat": 4,
 "nbformat_minor": 5
}

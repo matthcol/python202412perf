{
 "cells": [
  {
   "cell_type": "markdown",
   "id": "3ff40439-c5a1-4716-9eec-1b079e61a97f",
   "metadata": {},
   "source": [
    "# Decorators\n",
    "- article: https://realpython.com/primer-on-python-decorators"
   ]
  },
  {
   "cell_type": "code",
   "execution_count": 53,
   "id": "5c905697-dab4-4646-860a-61274dda6ec1",
   "metadata": {},
   "outputs": [],
   "source": [
    "import statistics\n",
    "from functools import lru_cache, wraps"
   ]
  },
  {
   "cell_type": "markdown",
   "id": "080236df-9b75-497b-ac83-9fd0cece50a6",
   "metadata": {},
   "source": [
    "## Example: @lru_cache"
   ]
  },
  {
   "cell_type": "code",
   "execution_count": 4,
   "id": "1d7a2dba-957d-4d14-bcf8-a1410fb71799",
   "metadata": {},
   "outputs": [],
   "source": [
    "def fibo(n):\n",
    "    match n:\n",
    "        case 0 | 1:\n",
    "            return n\n",
    "        case _:\n",
    "            return fibo(n-1) + fibo(n-2)"
   ]
  },
  {
   "cell_type": "code",
   "execution_count": 5,
   "id": "170c1d4e-7f1b-41d6-980f-9314a8194039",
   "metadata": {},
   "outputs": [
    {
     "name": "stdout",
     "output_type": "stream",
     "text": [
      "0\n",
      "1\n",
      "1\n",
      "2\n",
      "3\n",
      "5\n",
      "8\n",
      "13\n",
      "21\n",
      "34\n"
     ]
    }
   ],
   "source": [
    "for i in range(10):\n",
    "    print(fibo(i))"
   ]
  },
  {
   "cell_type": "code",
   "execution_count": 6,
   "id": "25c25a66-84ef-4abb-88d7-82df731e4c5d",
   "metadata": {},
   "outputs": [
    {
     "data": {
      "text/plain": [
       "102334155"
      ]
     },
     "execution_count": 6,
     "metadata": {},
     "output_type": "execute_result"
    }
   ],
   "source": [
    "fibo(40)"
   ]
  },
  {
   "cell_type": "code",
   "execution_count": 7,
   "id": "695c86a8-96a8-4b56-a444-224f06d24e36",
   "metadata": {},
   "outputs": [],
   "source": [
    "def fibo_cache(n):\n",
    "    @lru_cache\n",
    "    # @lru_cache(maxsize=1024)\n",
    "    def fibo_internal(n):\n",
    "        match n:\n",
    "            case 0 | 1:\n",
    "                return n\n",
    "            case _:\n",
    "                return fibo_internal(n-1) + fibo_internal(n-2)\n",
    "    return fibo_internal(n)"
   ]
  },
  {
   "cell_type": "code",
   "execution_count": 8,
   "id": "ed027091-50a8-464b-a69b-149a60d0946e",
   "metadata": {},
   "outputs": [
    {
     "data": {
      "text/plain": [
       "102334155"
      ]
     },
     "execution_count": 8,
     "metadata": {},
     "output_type": "execute_result"
    }
   ],
   "source": [
    "fibo_cache(40)"
   ]
  },
  {
   "cell_type": "code",
   "execution_count": 9,
   "id": "81a0b7c1-f0e2-4ae3-8d21-8abbcd48c5b8",
   "metadata": {},
   "outputs": [
    {
     "data": {
      "text/plain": [
       "12586269025"
      ]
     },
     "execution_count": 9,
     "metadata": {},
     "output_type": "execute_result"
    }
   ],
   "source": [
    "fibo_cache(50)"
   ]
  },
  {
   "cell_type": "code",
   "execution_count": 10,
   "id": "4f3049d1-f865-4033-a227-cddd87f6d2eb",
   "metadata": {},
   "outputs": [
    {
     "name": "stdout",
     "output_type": "stream",
     "text": [
      "17.2 μs ± 3.11 μs per loop (mean ± std. dev. of 7 runs, 1,000 loops each)\n"
     ]
    }
   ],
   "source": [
    "# 7 x batch of 1000 calls\n",
    "%timeit -n 1000 fibo_cache(40)"
   ]
  },
  {
   "cell_type": "code",
   "execution_count": 11,
   "id": "10eac1cc-c964-4b65-98f1-d989e6752557",
   "metadata": {},
   "outputs": [
    {
     "name": "stdout",
     "output_type": "stream",
     "text": [
      "24.2 s ± 844 ms per loop (mean ± std. dev. of 2 runs, 1 loop each)\n"
     ]
    }
   ],
   "source": [
    "# 2 x batch of 1 call\n",
    "%timeit -n 1 -r 2 fibo(40)"
   ]
  },
  {
   "cell_type": "code",
   "execution_count": 77,
   "id": "3eb282e6-cf05-4dd9-a7b7-fbfef1e9ad93",
   "metadata": {},
   "outputs": [],
   "source": [
    "def calcul(x):\n",
    "    \"doc of calcul function\"\n",
    "    return x**2 + 1\n",
    "\n",
    "# a decorator is a function !\n",
    "# calcul2 = lru_cache(calcul)\n",
    "calcul2 = lru_cache(maxsize=1024)(calcul)"
   ]
  },
  {
   "cell_type": "code",
   "execution_count": 79,
   "id": "3036e201-27b3-42fd-95f5-4cae98c3378a",
   "metadata": {},
   "outputs": [
    {
     "name": "stdout",
     "output_type": "stream",
     "text": [
      "10\n",
      "10\n",
      "10\n",
      "5\n"
     ]
    }
   ],
   "source": [
    "print(calcul2(3))\n",
    "print(calcul2(3))\n",
    "print(calcul2(3))\n",
    "print(calcul2(2))"
   ]
  },
  {
   "cell_type": "code",
   "execution_count": null,
   "id": "941acd4e-f561-4598-8b1f-5baa63177c19",
   "metadata": {},
   "outputs": [],
   "source": [
    "calcul2?"
   ]
  },
  {
   "cell_type": "code",
   "execution_count": null,
   "id": "7671c64e-b36a-4065-b35e-21b95280eece",
   "metadata": {},
   "outputs": [],
   "source": [
    "calcul2.__name__"
   ]
  },
  {
   "cell_type": "markdown",
   "id": "24621330-f967-4556-b4ff-b0de727bd58a",
   "metadata": {},
   "source": [
    "## Decorator @logger"
   ]
  },
  {
   "cell_type": "code",
   "execution_count": 17,
   "id": "8c7fcd7b-3b23-4f35-bbe4-c86a474a43a6",
   "metadata": {},
   "outputs": [],
   "source": [
    "def logger(f):\n",
    "    @wraps(f)\n",
    "    def logger_wrapper(*args, **kwargs):\n",
    "        print(f'** function called with positional args: {args} and keyword args: {kwargs}')\n",
    "        res = f(*args, **kwargs)\n",
    "        print(f'** return value: {res}')\n",
    "        return res\n",
    "    return logger_wrapper"
   ]
  },
  {
   "cell_type": "code",
   "execution_count": 39,
   "id": "8292de90-0950-44db-bfe6-66ffd8b1cff5",
   "metadata": {},
   "outputs": [],
   "source": [
    "@logger\n",
    "def generate():\n",
    "    print('generate ....')"
   ]
  },
  {
   "cell_type": "code",
   "execution_count": 41,
   "id": "8d31268c-ff9d-4938-857e-cc6c44f867f2",
   "metadata": {},
   "outputs": [
    {
     "name": "stdout",
     "output_type": "stream",
     "text": [
      "** function called with positional args: () and keyword args: {}\n",
      "generate ....\n",
      "** return value: None\n"
     ]
    }
   ],
   "source": [
    "generate()"
   ]
  },
  {
   "cell_type": "code",
   "execution_count": 43,
   "id": "f20c89dd-4e71-4811-991b-ff15b7147a5e",
   "metadata": {},
   "outputs": [],
   "source": [
    "@logger\n",
    "def calcul(x):\n",
    "    return x**2 + 1"
   ]
  },
  {
   "cell_type": "code",
   "execution_count": null,
   "id": "883e9d71-67be-4e61-a487-2796e4b88c03",
   "metadata": {},
   "outputs": [],
   "source": [
    "y = calcul(3)\n",
    "y"
   ]
  },
  {
   "cell_type": "code",
   "execution_count": null,
   "id": "d4597e9f-d6de-4058-8f84-d0a10754ca2e",
   "metadata": {},
   "outputs": [],
   "source": [
    "y = calcul(x=3)\n",
    "y"
   ]
  },
  {
   "cell_type": "code",
   "execution_count": null,
   "id": "0a819cd2-eddb-4749-a50f-8948b457dafc",
   "metadata": {},
   "outputs": [],
   "source": [
    "zip = logger(zip)\n",
    "for a,b,c in zip('abcd', (1,2,10), range(20)):\n",
    "    print(a,b,c)"
   ]
  },
  {
   "cell_type": "markdown",
   "id": "111b915c-0779-4dec-a1b5-b184fc890f55",
   "metadata": {},
   "source": [
    "## decorator @twice\n",
    "- execute twice decorated function\n",
    "- return last result"
   ]
  },
  {
   "cell_type": "code",
   "execution_count": 19,
   "id": "592b9cd9-33d3-4f16-a106-468f06d8e0a8",
   "metadata": {},
   "outputs": [],
   "source": [
    "def twice(f):\n",
    "    @wraps(f)\n",
    "    def twice_wrapper(*args, **kwargs):\n",
    "        f(*args, **kwargs)\n",
    "        return f(*args, **kwargs)\n",
    "    # twice_wrapper.__doc__ = f.__doc__\n",
    "    # twice_wrapper.__name__ = f.__name__\n",
    "    return twice_wrapper"
   ]
  },
  {
   "cell_type": "code",
   "execution_count": 21,
   "id": "475afe69-a662-4df7-a061-a262e231d847",
   "metadata": {},
   "outputs": [],
   "source": [
    "@twice\n",
    "@logger\n",
    "def compute(x, y):\n",
    "    return (x**2 + y**2)**.5"
   ]
  },
  {
   "cell_type": "code",
   "execution_count": 23,
   "id": "788cdae7-0496-4575-a2df-03fe94a39eb6",
   "metadata": {},
   "outputs": [
    {
     "name": "stdout",
     "output_type": "stream",
     "text": [
      "** function called with positional args: (3, 4) and keyword args: {}\n",
      "** return value: 5.0\n",
      "** function called with positional args: (3, 4) and keyword args: {}\n",
      "** return value: 5.0\n"
     ]
    },
    {
     "data": {
      "text/plain": [
       "5.0"
      ]
     },
     "execution_count": 23,
     "metadata": {},
     "output_type": "execute_result"
    }
   ],
   "source": [
    "compute(3,4)"
   ]
  },
  {
   "cell_type": "code",
   "execution_count": 25,
   "id": "e9dd9233-7cce-49d6-8b8e-8ee498705de4",
   "metadata": {},
   "outputs": [],
   "source": [
    "@logger\n",
    "@twice\n",
    "def compute(x, y):\n",
    "    \"compute hypothenuse from side lengths x and y\"\n",
    "    print('compute....')\n",
    "    return (x**2 + y**2)**.5"
   ]
  },
  {
   "cell_type": "code",
   "execution_count": 27,
   "id": "dd3eae11-522c-462b-a0b0-e1f1ee092beb",
   "metadata": {},
   "outputs": [
    {
     "data": {
      "text/plain": [
       "\u001b[1;31mSignature:\u001b[0m \u001b[0mcompute\u001b[0m\u001b[1;33m(\u001b[0m\u001b[0mx\u001b[0m\u001b[1;33m,\u001b[0m \u001b[0my\u001b[0m\u001b[1;33m)\u001b[0m\u001b[1;33m\u001b[0m\u001b[1;33m\u001b[0m\u001b[0m\n",
       "\u001b[1;31mDocstring:\u001b[0m compute hypothenuse from side lengths x and y\n",
       "\u001b[1;31mFile:\u001b[0m      c:\\users\\matth\\appdata\\local\\temp\\ipykernel_28904\\3217268294.py\n",
       "\u001b[1;31mType:\u001b[0m      function"
      ]
     },
     "metadata": {},
     "output_type": "display_data"
    }
   ],
   "source": [
    "compute?"
   ]
  },
  {
   "cell_type": "code",
   "execution_count": 29,
   "id": "d9be56f5-95ee-42f9-bc39-41201f7ef3af",
   "metadata": {},
   "outputs": [
    {
     "data": {
      "text/plain": [
       "'compute'"
      ]
     },
     "execution_count": 29,
     "metadata": {},
     "output_type": "execute_result"
    }
   ],
   "source": [
    "compute.__name__"
   ]
  },
  {
   "cell_type": "code",
   "execution_count": null,
   "id": "5562c5aa-4a2a-4e2b-8123-26a203ec1ed3",
   "metadata": {},
   "outputs": [],
   "source": [
    "compute(3,4)"
   ]
  },
  {
   "cell_type": "code",
   "execution_count": null,
   "id": "4cac28bf-bf93-4682-ad3b-32f0cfef9fbc",
   "metadata": {},
   "outputs": [],
   "source": [
    "compute_super_decorated = logger(twice(twice(logger(compute))))\n",
    "compute_super_decorated(3,4)"
   ]
  },
  {
   "cell_type": "markdown",
   "id": "a4da5949-cc2b-4d3e-916a-c56855a36bb7",
   "metadata": {},
   "source": [
    "## decorator @repeat(n)\n",
    "- execute twice decorated function\n",
    "- return mean result"
   ]
  },
  {
   "cell_type": "code",
   "execution_count": 55,
   "id": "14c4aaf5-becc-4807-ae7b-c7934182ce3a",
   "metadata": {},
   "outputs": [],
   "source": [
    "def repeat(n):\n",
    "    def repeat_decorator(f):\n",
    "        @wraps(f)\n",
    "        def twice_wrapper(*args, **kwargs):\n",
    "            return statistics.mean(\n",
    "                f(*args, **kwargs)\n",
    "                for _ in range(n)\n",
    "            )\n",
    "        return twice_wrapper\n",
    "    return repeat_decorator"
   ]
  },
  {
   "cell_type": "code",
   "execution_count": 57,
   "id": "00e47137-2872-41ae-8526-1826ef75e7b7",
   "metadata": {},
   "outputs": [
    {
     "name": "stdout",
     "output_type": "stream",
     "text": [
      "compute....\n",
      "compute....\n",
      "compute....\n",
      "compute....\n",
      "compute....\n",
      "compute....\n",
      "compute....\n",
      "compute....\n",
      "compute....\n",
      "compute....\n"
     ]
    },
    {
     "data": {
      "text/plain": [
       "5.0"
      ]
     },
     "execution_count": 57,
     "metadata": {},
     "output_type": "execute_result"
    }
   ],
   "source": [
    "@repeat(10)\n",
    "def compute(x, y):\n",
    "    \"compute hypothenuse from side lengths x and y\"\n",
    "    print('compute....')\n",
    "    return (x**2 + y**2)**.5\n",
    "\n",
    "compute(3,4)"
   ]
  },
  {
   "cell_type": "code",
   "execution_count": 67,
   "id": "2cd0c938-fb36-41c6-88b9-b3409dad1823",
   "metadata": {},
   "outputs": [],
   "source": [
    "sum2 = repeat(10)(sum)"
   ]
  },
  {
   "cell_type": "code",
   "execution_count": 69,
   "id": "3a3df5ee-f834-4af0-bb74-3b9517315d3f",
   "metadata": {},
   "outputs": [
    {
     "data": {
      "text/plain": [
       "45"
      ]
     },
     "execution_count": 69,
     "metadata": {},
     "output_type": "execute_result"
    }
   ],
   "source": [
    "sum2(range(10))"
   ]
  },
  {
   "cell_type": "code",
   "execution_count": 73,
   "id": "5e6bca2c-efa1-40b3-9252-c0f4454d5ab8",
   "metadata": {},
   "outputs": [],
   "source": [
    "sum3 = repeat(5)(logger(sum))"
   ]
  },
  {
   "cell_type": "code",
   "execution_count": 75,
   "id": "6b8c0a0b-db08-4174-b7a8-d7bd6908d4a5",
   "metadata": {},
   "outputs": [
    {
     "name": "stdout",
     "output_type": "stream",
     "text": [
      "** function called with positional args: (range(0, 10),) and keyword args: {}\n",
      "** return value: 45\n",
      "** function called with positional args: (range(0, 10),) and keyword args: {}\n",
      "** return value: 45\n",
      "** function called with positional args: (range(0, 10),) and keyword args: {}\n",
      "** return value: 45\n",
      "** function called with positional args: (range(0, 10),) and keyword args: {}\n",
      "** return value: 45\n",
      "** function called with positional args: (range(0, 10),) and keyword args: {}\n",
      "** return value: 45\n"
     ]
    },
    {
     "data": {
      "text/plain": [
       "45"
      ]
     },
     "execution_count": 75,
     "metadata": {},
     "output_type": "execute_result"
    }
   ],
   "source": [
    "sum3(range(10))"
   ]
  },
  {
   "cell_type": "markdown",
   "id": "125910e5-ace9-4339-adaa-734ffb78ee78",
   "metadata": {},
   "source": [
    "## NB: class attribute example"
   ]
  },
  {
   "cell_type": "code",
   "execution_count": null,
   "id": "fbf5b538-8e18-4584-ae8e-0b62af3f4edb",
   "metadata": {},
   "outputs": [],
   "source": [
    "class A:\n",
    "    cpt: int = 0\n",
    "\n",
    "    def __init__(self):\n",
    "        A.cpt +=1"
   ]
  },
  {
   "cell_type": "code",
   "execution_count": null,
   "id": "62dfd1b8-664b-4027-bac3-cb5ec6a1ef24",
   "metadata": {},
   "outputs": [],
   "source": [
    "for _ in range(1000):\n",
    "    _ = A()\n",
    "A.cpt"
   ]
  },
  {
   "cell_type": "markdown",
   "id": "97dcc24f-0449-4466-ae81-a666e2744938",
   "metadata": {},
   "source": [
    "## decorating a class"
   ]
  },
  {
   "cell_type": "code",
   "execution_count": 101,
   "id": "4d563c7c-0172-4e22-b92e-fd126ec86302",
   "metadata": {},
   "outputs": [],
   "source": [
    "from dataclasses import dataclass\n",
    "from typing import Literal"
   ]
  },
  {
   "cell_type": "code",
   "execution_count": 89,
   "id": "a12eb79e-b2fe-4b93-a3a5-c110906a0087",
   "metadata": {},
   "outputs": [],
   "source": [
    "def displayable(cls):\n",
    "    def display(self):\n",
    "        print('str:', self)\n",
    "        print('repr:', repr(self)) \n",
    "    cls.display = display\n",
    "    return cls"
   ]
  },
  {
   "cell_type": "code",
   "execution_count": 95,
   "id": "7c27823b-fea9-497a-b95a-562863a82167",
   "metadata": {},
   "outputs": [],
   "source": [
    "@displayable\n",
    "@dataclass\n",
    "class Person:\n",
    "    name: str\n",
    "\n",
    "    def __str__(self):\n",
    "        return self.name"
   ]
  },
  {
   "cell_type": "code",
   "execution_count": 97,
   "id": "19e81ae1-4739-4eb5-96a7-042407ec70c8",
   "metadata": {},
   "outputs": [
    {
     "name": "stdout",
     "output_type": "stream",
     "text": [
      "str: toto\n",
      "repr: Person(name='toto')\n"
     ]
    }
   ],
   "source": [
    "p = Person('toto')\n",
    "p.display()"
   ]
  },
  {
   "cell_type": "code",
   "execution_count": 103,
   "id": "0984d52c-5524-49e6-9093-13527a6fc179",
   "metadata": {},
   "outputs": [],
   "source": [
    "def displayable2(method: Literal['str','repr']):\n",
    "    def displayable_decorator(cls):\n",
    "        def display(self):\n",
    "            match method:\n",
    "                case 'str':\n",
    "                    print('str:', self)\n",
    "                case 'repr':\n",
    "                    print('repr:', repr(self)) \n",
    "        cls.display = display\n",
    "        return cls\n",
    "    return displayable_decorator"
   ]
  },
  {
   "cell_type": "code",
   "execution_count": 105,
   "id": "1abfd583-9e4f-4cdd-9f65-beb7e67215cf",
   "metadata": {},
   "outputs": [
    {
     "name": "stdout",
     "output_type": "stream",
     "text": [
      "str: titi\n"
     ]
    }
   ],
   "source": [
    "@displayable2('str')\n",
    "@dataclass\n",
    "class Person:\n",
    "    name: str\n",
    "\n",
    "    def __str__(self):\n",
    "        return self.name\n",
    "\n",
    "p = Person('titi')\n",
    "p.display()"
   ]
  },
  {
   "cell_type": "code",
   "execution_count": 107,
   "id": "1ed2617a-f0eb-4aef-baf1-692601ddcfa1",
   "metadata": {},
   "outputs": [
    {
     "name": "stdout",
     "output_type": "stream",
     "text": [
      "repr: Person(name='titi')\n"
     ]
    }
   ],
   "source": [
    "@displayable2('repr')\n",
    "@dataclass\n",
    "class Person:\n",
    "    name: str\n",
    "\n",
    "    def __str__(self):\n",
    "        return self.name\n",
    "\n",
    "p = Person('titi')\n",
    "p.display()"
   ]
  }
 ],
 "metadata": {
  "kernelspec": {
   "display_name": "Python 3 (ipykernel)",
   "language": "python",
   "name": "python3"
  },
  "language_info": {
   "codemirror_mode": {
    "name": "ipython",
    "version": 3
   },
   "file_extension": ".py",
   "mimetype": "text/x-python",
   "name": "python",
   "nbconvert_exporter": "python",
   "pygments_lexer": "ipython3",
   "version": "3.12.3"
  }
 },
 "nbformat": 4,
 "nbformat_minor": 5
}

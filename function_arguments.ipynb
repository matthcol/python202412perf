{
 "cells": [
  {
   "cell_type": "markdown",
   "id": "944133d9-3324-4b1e-be97-7ca4774318df",
   "metadata": {},
   "source": [
    "# Python functions and arguments"
   ]
  },
  {
   "cell_type": "code",
   "execution_count": 2,
   "id": "8506db91-053e-4dab-9a08-1793da4bfeca",
   "metadata": {},
   "outputs": [],
   "source": [
    "import matplotlib.pyplot as plt\n",
    "import numpy as np\n",
    "import pandas\n",
    "import csv"
   ]
  },
  {
   "cell_type": "code",
   "execution_count": 3,
   "id": "7641c570-c761-4f7a-9512-673b1d2cc5ce",
   "metadata": {},
   "outputs": [],
   "source": [
    "# signature: print(*args, sep=' ', end='\\n', file=None, flush=False)\n",
    "# signature: zip(*iterables, strict=False)"
   ]
  },
  {
   "cell_type": "code",
   "execution_count": 4,
   "id": "96c087bc-3af9-4e26-b07c-855ffea1c743",
   "metadata": {},
   "outputs": [
    {
     "name": "stdout",
     "output_type": "stream",
     "text": [
      "\n",
      "12\n",
      "12 python 4.5\n"
     ]
    }
   ],
   "source": [
    "print() # args = ()\n",
    "print(12) # args = (12,)\n",
    "print(12, 'python', 4.5) # args=(12, 'python', 4.5)"
   ]
  },
  {
   "cell_type": "code",
   "execution_count": 5,
   "id": "b8a1713c-2dd2-41b2-8a3d-ac1d9b6fd86b",
   "metadata": {},
   "outputs": [
    {
     "data": {
      "text/plain": [
       "[(1, 'a', 0), (4, 'b', 1), (5, 'c', 2)]"
      ]
     },
     "execution_count": 5,
     "metadata": {},
     "output_type": "execute_result"
    }
   ],
   "source": [
    "list(zip((1,4, 5), 'abc', range(10)))"
   ]
  },
  {
   "cell_type": "code",
   "execution_count": 6,
   "id": "34cbd9ea-3694-406d-8126-2269f1d95e80",
   "metadata": {},
   "outputs": [
    {
     "data": {
      "text/plain": [
       "\u001b[1;31mInit signature:\u001b[0m\n",
       "\u001b[0mcsv\u001b[0m\u001b[1;33m.\u001b[0m\u001b[0mDictReader\u001b[0m\u001b[1;33m(\u001b[0m\u001b[1;33m\n",
       "\u001b[0m    \u001b[0mf\u001b[0m\u001b[1;33m,\u001b[0m\u001b[1;33m\n",
       "\u001b[0m    \u001b[0mfieldnames\u001b[0m\u001b[1;33m=\u001b[0m\u001b[1;32mNone\u001b[0m\u001b[1;33m,\u001b[0m\u001b[1;33m\n",
       "\u001b[0m    \u001b[0mrestkey\u001b[0m\u001b[1;33m=\u001b[0m\u001b[1;32mNone\u001b[0m\u001b[1;33m,\u001b[0m\u001b[1;33m\n",
       "\u001b[0m    \u001b[0mrestval\u001b[0m\u001b[1;33m=\u001b[0m\u001b[1;32mNone\u001b[0m\u001b[1;33m,\u001b[0m\u001b[1;33m\n",
       "\u001b[0m    \u001b[0mdialect\u001b[0m\u001b[1;33m=\u001b[0m\u001b[1;34m'excel'\u001b[0m\u001b[1;33m,\u001b[0m\u001b[1;33m\n",
       "\u001b[0m    \u001b[1;33m*\u001b[0m\u001b[0margs\u001b[0m\u001b[1;33m,\u001b[0m\u001b[1;33m\n",
       "\u001b[0m    \u001b[1;33m**\u001b[0m\u001b[0mkwds\u001b[0m\u001b[1;33m,\u001b[0m\u001b[1;33m\n",
       "\u001b[0m\u001b[1;33m)\u001b[0m\u001b[1;33m\u001b[0m\u001b[1;33m\u001b[0m\u001b[0m\n",
       "\u001b[1;31mDocstring:\u001b[0m      <no docstring>\n",
       "\u001b[1;31mFile:\u001b[0m           c:\\users\\matth\\anaconda3\\lib\\csv.py\n",
       "\u001b[1;31mType:\u001b[0m           type\n",
       "\u001b[1;31mSubclasses:\u001b[0m     "
      ]
     },
     "metadata": {},
     "output_type": "display_data"
    }
   ],
   "source": [
    "csv.DictReader?"
   ]
  },
  {
   "cell_type": "code",
   "execution_count": 7,
   "id": "3aea4046-276f-4115-9c4f-3e9139bccc82",
   "metadata": {},
   "outputs": [
    {
     "data": {
      "text/plain": [
       "\u001b[1;31mSignature:\u001b[0m\n",
       "\u001b[0mplt\u001b[0m\u001b[1;33m.\u001b[0m\u001b[0mplot\u001b[0m\u001b[1;33m(\u001b[0m\u001b[1;33m\n",
       "\u001b[0m    \u001b[1;33m*\u001b[0m\u001b[0margs\u001b[0m\u001b[1;33m:\u001b[0m \u001b[1;34m'float | ArrayLike | str'\u001b[0m\u001b[1;33m,\u001b[0m\u001b[1;33m\n",
       "\u001b[0m    \u001b[0mscalex\u001b[0m\u001b[1;33m:\u001b[0m \u001b[1;34m'bool'\u001b[0m \u001b[1;33m=\u001b[0m \u001b[1;32mTrue\u001b[0m\u001b[1;33m,\u001b[0m\u001b[1;33m\n",
       "\u001b[0m    \u001b[0mscaley\u001b[0m\u001b[1;33m:\u001b[0m \u001b[1;34m'bool'\u001b[0m \u001b[1;33m=\u001b[0m \u001b[1;32mTrue\u001b[0m\u001b[1;33m,\u001b[0m\u001b[1;33m\n",
       "\u001b[0m    \u001b[0mdata\u001b[0m\u001b[1;33m=\u001b[0m\u001b[1;32mNone\u001b[0m\u001b[1;33m,\u001b[0m\u001b[1;33m\n",
       "\u001b[0m    \u001b[1;33m**\u001b[0m\u001b[0mkwargs\u001b[0m\u001b[1;33m,\u001b[0m\u001b[1;33m\n",
       "\u001b[0m\u001b[1;33m)\u001b[0m \u001b[1;33m->\u001b[0m \u001b[1;34m'list[Line2D]'\u001b[0m\u001b[1;33m\u001b[0m\u001b[1;33m\u001b[0m\u001b[0m\n",
       "\u001b[1;31mDocstring:\u001b[0m\n",
       "Plot y versus x as lines and/or markers.\n",
       "\n",
       "Call signatures::\n",
       "\n",
       "    plot([x], y, [fmt], *, data=None, **kwargs)\n",
       "    plot([x], y, [fmt], [x2], y2, [fmt2], ..., **kwargs)\n",
       "\n",
       "The coordinates of the points or line nodes are given by *x*, *y*.\n",
       "\n",
       "The optional parameter *fmt* is a convenient way for defining basic\n",
       "formatting like color, marker and linestyle. It's a shortcut string\n",
       "notation described in the *Notes* section below.\n",
       "\n",
       ">>> plot(x, y)        # plot x and y using default line style and color\n",
       ">>> plot(x, y, 'bo')  # plot x and y using blue circle markers\n",
       ">>> plot(y)           # plot y using x as index array 0..N-1\n",
       ">>> plot(y, 'r+')     # ditto, but with red plusses\n",
       "\n",
       "You can use `.Line2D` properties as keyword arguments for more\n",
       "control on the appearance. Line properties and *fmt* can be mixed.\n",
       "The following two calls yield identical results:\n",
       "\n",
       ">>> plot(x, y, 'go--', linewidth=2, markersize=12)\n",
       ">>> plot(x, y, color='green', marker='o', linestyle='dashed',\n",
       "...      linewidth=2, markersize=12)\n",
       "\n",
       "When conflicting with *fmt*, keyword arguments take precedence.\n",
       "\n",
       "\n",
       "**Plotting labelled data**\n",
       "\n",
       "There's a convenient way for plotting objects with labelled data (i.e.\n",
       "data that can be accessed by index ``obj['y']``). Instead of giving\n",
       "the data in *x* and *y*, you can provide the object in the *data*\n",
       "parameter and just give the labels for *x* and *y*::\n",
       "\n",
       ">>> plot('xlabel', 'ylabel', data=obj)\n",
       "\n",
       "All indexable objects are supported. This could e.g. be a `dict`, a\n",
       "`pandas.DataFrame` or a structured numpy array.\n",
       "\n",
       "\n",
       "**Plotting multiple sets of data**\n",
       "\n",
       "There are various ways to plot multiple sets of data.\n",
       "\n",
       "- The most straight forward way is just to call `plot` multiple times.\n",
       "  Example:\n",
       "\n",
       "  >>> plot(x1, y1, 'bo')\n",
       "  >>> plot(x2, y2, 'go')\n",
       "\n",
       "- If *x* and/or *y* are 2D arrays a separate data set will be drawn\n",
       "  for every column. If both *x* and *y* are 2D, they must have the\n",
       "  same shape. If only one of them is 2D with shape (N, m) the other\n",
       "  must have length N and will be used for every data set m.\n",
       "\n",
       "  Example:\n",
       "\n",
       "  >>> x = [1, 2, 3]\n",
       "  >>> y = np.array([[1, 2], [3, 4], [5, 6]])\n",
       "  >>> plot(x, y)\n",
       "\n",
       "  is equivalent to:\n",
       "\n",
       "  >>> for col in range(y.shape[1]):\n",
       "  ...     plot(x, y[:, col])\n",
       "\n",
       "- The third way is to specify multiple sets of *[x]*, *y*, *[fmt]*\n",
       "  groups::\n",
       "\n",
       "  >>> plot(x1, y1, 'g^', x2, y2, 'g-')\n",
       "\n",
       "  In this case, any additional keyword argument applies to all\n",
       "  datasets. Also, this syntax cannot be combined with the *data*\n",
       "  parameter.\n",
       "\n",
       "By default, each line is assigned a different style specified by a\n",
       "'style cycle'. The *fmt* and line property parameters are only\n",
       "necessary if you want explicit deviations from these defaults.\n",
       "Alternatively, you can also change the style cycle using\n",
       ":rc:`axes.prop_cycle`.\n",
       "\n",
       "\n",
       "Parameters\n",
       "----------\n",
       "x, y : array-like or scalar\n",
       "    The horizontal / vertical coordinates of the data points.\n",
       "    *x* values are optional and default to ``range(len(y))``.\n",
       "\n",
       "    Commonly, these parameters are 1D arrays.\n",
       "\n",
       "    They can also be scalars, or two-dimensional (in that case, the\n",
       "    columns represent separate data sets).\n",
       "\n",
       "    These arguments cannot be passed as keywords.\n",
       "\n",
       "fmt : str, optional\n",
       "    A format string, e.g. 'ro' for red circles. See the *Notes*\n",
       "    section for a full description of the format strings.\n",
       "\n",
       "    Format strings are just an abbreviation for quickly setting\n",
       "    basic line properties. All of these and more can also be\n",
       "    controlled by keyword arguments.\n",
       "\n",
       "    This argument cannot be passed as keyword.\n",
       "\n",
       "data : indexable object, optional\n",
       "    An object with labelled data. If given, provide the label names to\n",
       "    plot in *x* and *y*.\n",
       "\n",
       "    .. note::\n",
       "        Technically there's a slight ambiguity in calls where the\n",
       "        second label is a valid *fmt*. ``plot('n', 'o', data=obj)``\n",
       "        could be ``plt(x, y)`` or ``plt(y, fmt)``. In such cases,\n",
       "        the former interpretation is chosen, but a warning is issued.\n",
       "        You may suppress the warning by adding an empty format string\n",
       "        ``plot('n', 'o', '', data=obj)``.\n",
       "\n",
       "Returns\n",
       "-------\n",
       "list of `.Line2D`\n",
       "    A list of lines representing the plotted data.\n",
       "\n",
       "Other Parameters\n",
       "----------------\n",
       "scalex, scaley : bool, default: True\n",
       "    These parameters determine if the view limits are adapted to the\n",
       "    data limits. The values are passed on to\n",
       "    `~.axes.Axes.autoscale_view`.\n",
       "\n",
       "**kwargs : `~matplotlib.lines.Line2D` properties, optional\n",
       "    *kwargs* are used to specify properties like a line label (for\n",
       "    auto legends), linewidth, antialiasing, marker face color.\n",
       "    Example::\n",
       "\n",
       "    >>> plot([1, 2, 3], [1, 2, 3], 'go-', label='line 1', linewidth=2)\n",
       "    >>> plot([1, 2, 3], [1, 4, 9], 'rs', label='line 2')\n",
       "\n",
       "    If you specify multiple lines with one plot call, the kwargs apply\n",
       "    to all those lines. In case the label object is iterable, each\n",
       "    element is used as labels for each set of data.\n",
       "\n",
       "    Here is a list of available `.Line2D` properties:\n",
       "\n",
       "    Properties:\n",
       "    agg_filter: a filter function, which takes a (m, n, 3) float array and a dpi value, and returns a (m, n, 3) array and two offsets from the bottom left corner of the image\n",
       "    alpha: scalar or None\n",
       "    animated: bool\n",
       "    antialiased or aa: bool\n",
       "    clip_box: `~matplotlib.transforms.BboxBase` or None\n",
       "    clip_on: bool\n",
       "    clip_path: Patch or (Path, Transform) or None\n",
       "    color or c: color\n",
       "    dash_capstyle: `.CapStyle` or {'butt', 'projecting', 'round'}\n",
       "    dash_joinstyle: `.JoinStyle` or {'miter', 'round', 'bevel'}\n",
       "    dashes: sequence of floats (on/off ink in points) or (None, None)\n",
       "    data: (2, N) array or two 1D arrays\n",
       "    drawstyle or ds: {'default', 'steps', 'steps-pre', 'steps-mid', 'steps-post'}, default: 'default'\n",
       "    figure: `~matplotlib.figure.Figure`\n",
       "    fillstyle: {'full', 'left', 'right', 'bottom', 'top', 'none'}\n",
       "    gapcolor: color or None\n",
       "    gid: str\n",
       "    in_layout: bool\n",
       "    label: object\n",
       "    linestyle or ls: {'-', '--', '-.', ':', '', (offset, on-off-seq), ...}\n",
       "    linewidth or lw: float\n",
       "    marker: marker style string, `~.path.Path` or `~.markers.MarkerStyle`\n",
       "    markeredgecolor or mec: color\n",
       "    markeredgewidth or mew: float\n",
       "    markerfacecolor or mfc: color\n",
       "    markerfacecoloralt or mfcalt: color\n",
       "    markersize or ms: float\n",
       "    markevery: None or int or (int, int) or slice or list[int] or float or (float, float) or list[bool]\n",
       "    mouseover: bool\n",
       "    path_effects: list of `.AbstractPathEffect`\n",
       "    picker: float or callable[[Artist, Event], tuple[bool, dict]]\n",
       "    pickradius: float\n",
       "    rasterized: bool\n",
       "    sketch_params: (scale: float, length: float, randomness: float)\n",
       "    snap: bool or None\n",
       "    solid_capstyle: `.CapStyle` or {'butt', 'projecting', 'round'}\n",
       "    solid_joinstyle: `.JoinStyle` or {'miter', 'round', 'bevel'}\n",
       "    transform: unknown\n",
       "    url: str\n",
       "    visible: bool\n",
       "    xdata: 1D array\n",
       "    ydata: 1D array\n",
       "    zorder: float\n",
       "\n",
       "See Also\n",
       "--------\n",
       "scatter : XY scatter plot with markers of varying size and/or color (\n",
       "    sometimes also called bubble chart).\n",
       "\n",
       "Notes\n",
       "-----\n",
       "**Format Strings**\n",
       "\n",
       "A format string consists of a part for color, marker and line::\n",
       "\n",
       "    fmt = '[marker][line][color]'\n",
       "\n",
       "Each of them is optional. If not provided, the value from the style\n",
       "cycle is used. Exception: If ``line`` is given, but no ``marker``,\n",
       "the data will be a line without markers.\n",
       "\n",
       "Other combinations such as ``[color][marker][line]`` are also\n",
       "supported, but note that their parsing may be ambiguous.\n",
       "\n",
       "**Markers**\n",
       "\n",
       "=============   ===============================\n",
       "character       description\n",
       "=============   ===============================\n",
       "``'.'``         point marker\n",
       "``','``         pixel marker\n",
       "``'o'``         circle marker\n",
       "``'v'``         triangle_down marker\n",
       "``'^'``         triangle_up marker\n",
       "``'<'``         triangle_left marker\n",
       "``'>'``         triangle_right marker\n",
       "``'1'``         tri_down marker\n",
       "``'2'``         tri_up marker\n",
       "``'3'``         tri_left marker\n",
       "``'4'``         tri_right marker\n",
       "``'8'``         octagon marker\n",
       "``'s'``         square marker\n",
       "``'p'``         pentagon marker\n",
       "``'P'``         plus (filled) marker\n",
       "``'*'``         star marker\n",
       "``'h'``         hexagon1 marker\n",
       "``'H'``         hexagon2 marker\n",
       "``'+'``         plus marker\n",
       "``'x'``         x marker\n",
       "``'X'``         x (filled) marker\n",
       "``'D'``         diamond marker\n",
       "``'d'``         thin_diamond marker\n",
       "``'|'``         vline marker\n",
       "``'_'``         hline marker\n",
       "=============   ===============================\n",
       "\n",
       "**Line Styles**\n",
       "\n",
       "=============    ===============================\n",
       "character        description\n",
       "=============    ===============================\n",
       "``'-'``          solid line style\n",
       "``'--'``         dashed line style\n",
       "``'-.'``         dash-dot line style\n",
       "``':'``          dotted line style\n",
       "=============    ===============================\n",
       "\n",
       "Example format strings::\n",
       "\n",
       "    'b'    # blue markers with default shape\n",
       "    'or'   # red circles\n",
       "    '-g'   # green solid line\n",
       "    '--'   # dashed line with default color\n",
       "    '^k:'  # black triangle_up markers connected by a dotted line\n",
       "\n",
       "**Colors**\n",
       "\n",
       "The supported color abbreviations are the single letter codes\n",
       "\n",
       "=============    ===============================\n",
       "character        color\n",
       "=============    ===============================\n",
       "``'b'``          blue\n",
       "``'g'``          green\n",
       "``'r'``          red\n",
       "``'c'``          cyan\n",
       "``'m'``          magenta\n",
       "``'y'``          yellow\n",
       "``'k'``          black\n",
       "``'w'``          white\n",
       "=============    ===============================\n",
       "\n",
       "and the ``'CN'`` colors that index into the default property cycle.\n",
       "\n",
       "If the color is the only part of the format string, you can\n",
       "additionally use any  `matplotlib.colors` spec, e.g. full names\n",
       "(``'green'``) or hex strings (``'#008000'``).\n",
       "\u001b[1;31mFile:\u001b[0m      c:\\users\\matth\\anaconda3\\lib\\site-packages\\matplotlib\\pyplot.py\n",
       "\u001b[1;31mType:\u001b[0m      function"
      ]
     },
     "metadata": {},
     "output_type": "display_data"
    }
   ],
   "source": [
    "plt.plot?"
   ]
  },
  {
   "cell_type": "markdown",
   "id": "c368ffd1-fecc-4080-9823-fc598037f5cf",
   "metadata": {},
   "source": [
    "## default value\n",
    "Warning: never initialize in signature with mutable value"
   ]
  },
  {
   "cell_type": "markdown",
   "id": "56ba7c74-02f2-43e0-9a91-5b9f2f746c01",
   "metadata": {},
   "source": [
    "### bad example"
   ]
  },
  {
   "cell_type": "code",
   "execution_count": 10,
   "id": "b9c1cf70-0128-49f8-8a11-dab00524b83f",
   "metadata": {},
   "outputs": [],
   "source": [
    "def accumulate(values, acc=[]):\n",
    "    acc.extend(values)\n",
    "    return acc"
   ]
  },
  {
   "cell_type": "code",
   "execution_count": 11,
   "id": "bc32967a-56be-4d03-a3f5-f3b40dddf19d",
   "metadata": {},
   "outputs": [
    {
     "name": "stdout",
     "output_type": "stream",
     "text": [
      "[1, 2, 3, 4, 5, 6]\n",
      "[1, 2, 3, 4, 5, 6, 7, 8, 9]\n",
      "[10, 11, 12]\n"
     ]
    }
   ],
   "source": [
    "numbers = [1, 2, 3]\n",
    "accumulate((4,5,6), numbers)\n",
    "print(numbers)\n",
    "accumulate((7,8,9), numbers)\n",
    "print(numbers)\n",
    "new_numbers = accumulate((10,11,12))\n",
    "print(new_numbers)"
   ]
  },
  {
   "cell_type": "code",
   "execution_count": 12,
   "id": "2ca67170-8dc3-40bc-8af0-af2d0ba7b212",
   "metadata": {},
   "outputs": [
    {
     "name": "stdout",
     "output_type": "stream",
     "text": [
      "[10, 11, 12, 13, 14, 15]\n"
     ]
    }
   ],
   "source": [
    "accumulate((13,14,15), new_numbers)\n",
    "print(new_numbers)"
   ]
  },
  {
   "cell_type": "code",
   "execution_count": 13,
   "id": "ea53929e-0cd6-4794-ad16-8eba484fefee",
   "metadata": {},
   "outputs": [
    {
     "data": {
      "text/plain": [
       "[10, 11, 12, 13, 14, 15, 16, 17, 18]"
      ]
     },
     "execution_count": 13,
     "metadata": {},
     "output_type": "execute_result"
    }
   ],
   "source": [
    "numbers3 = accumulate((16,17,18))\n",
    "numbers3"
   ]
  },
  {
   "cell_type": "markdown",
   "id": "1097fa86-6bdd-4add-a2e6-89993d7a1291",
   "metadata": {},
   "source": [
    "### good example"
   ]
  },
  {
   "cell_type": "code",
   "execution_count": 15,
   "id": "f7cd0f26-0e33-48cc-bdc7-707414d5d1fc",
   "metadata": {},
   "outputs": [],
   "source": [
    "def accumulate2(values, acc=None):\n",
    "    if acc is None:\n",
    "        acc = []\n",
    "    acc.extend(values)\n",
    "    return acc"
   ]
  },
  {
   "cell_type": "code",
   "execution_count": 16,
   "id": "56526fec-164a-4267-8cf8-20d029e97951",
   "metadata": {},
   "outputs": [
    {
     "name": "stdout",
     "output_type": "stream",
     "text": [
      "[1, 2, 3, 4, 5, 6]\n",
      "[1, 2, 3, 4, 5, 6, 7, 8, 9]\n",
      "[10, 11, 12]\n"
     ]
    }
   ],
   "source": [
    "numbers = [1, 2, 3]\n",
    "accumulate2((4,5,6), numbers)\n",
    "print(numbers)\n",
    "accumulate2((7,8,9), numbers)\n",
    "print(numbers)\n",
    "new_numbers = accumulate2((10,11,12))\n",
    "print(new_numbers)"
   ]
  },
  {
   "cell_type": "code",
   "execution_count": 17,
   "id": "e5fb7f04-f367-4ca1-b983-c62ea5bac89f",
   "metadata": {},
   "outputs": [
    {
     "name": "stdout",
     "output_type": "stream",
     "text": [
      "[10, 11, 12, 13, 14, 15]\n"
     ]
    }
   ],
   "source": [
    "accumulate2((13,14,15), new_numbers)\n",
    "print(new_numbers)"
   ]
  },
  {
   "cell_type": "code",
   "execution_count": 18,
   "id": "c4bf87b1-d6bf-43d6-b2b9-51e13563fd69",
   "metadata": {},
   "outputs": [
    {
     "data": {
      "text/plain": [
       "[16, 17, 18]"
      ]
     },
     "execution_count": 18,
     "metadata": {},
     "output_type": "execute_result"
    }
   ],
   "source": [
    "numbers3 = accumulate2((16,17,18))\n",
    "numbers3"
   ]
  },
  {
   "cell_type": "markdown",
   "id": "af2ca76e-add0-48f8-bce2-ca3015ec1988",
   "metadata": {},
   "source": [
    "## Define function with var args (by position)"
   ]
  },
  {
   "cell_type": "code",
   "execution_count": 20,
   "id": "9054f910-c8e0-42e3-9ffc-5c3f023392a6",
   "metadata": {},
   "outputs": [],
   "source": [
    "def f(a, b, *args):\n",
    "    print('a =', a)\n",
    "    print('b =', b)\n",
    "    print('args (tuple)=', args)\n",
    "    print('args (unpack)=', *args)\n",
    "    for arg in args:\n",
    "        print(f\"\\t- {arg}\")"
   ]
  },
  {
   "cell_type": "code",
   "execution_count": 21,
   "id": "a8a86f6a-7110-4aaf-a5f3-81f306a732ac",
   "metadata": {},
   "outputs": [
    {
     "name": "stdout",
     "output_type": "stream",
     "text": [
      "a = 1\n",
      "b = 2\n",
      "args (tuple)= ()\n",
      "args (unpack)=\n"
     ]
    }
   ],
   "source": [
    "f(1,2)"
   ]
  },
  {
   "cell_type": "code",
   "execution_count": 22,
   "id": "5912a588-0f29-4e5a-8bfd-4c9b0c09a8b0",
   "metadata": {},
   "outputs": [
    {
     "name": "stdout",
     "output_type": "stream",
     "text": [
      "a = 1\n",
      "b = 2\n",
      "args (tuple)= (3,)\n",
      "args (unpack)= 3\n",
      "\t- 3\n"
     ]
    }
   ],
   "source": [
    "f(1,2,3)"
   ]
  },
  {
   "cell_type": "code",
   "execution_count": 23,
   "id": "0f10f9ad-0096-47c6-afe7-21417a0fda97",
   "metadata": {},
   "outputs": [
    {
     "name": "stdout",
     "output_type": "stream",
     "text": [
      "a = 1\n",
      "b = 2\n",
      "args (tuple)= (3, 4, 5)\n",
      "args (unpack)= 3 4 5\n",
      "\t- 3\n",
      "\t- 4\n",
      "\t- 5\n"
     ]
    }
   ],
   "source": [
    "f(1, 2, 3, 4, 5)"
   ]
  },
  {
   "cell_type": "code",
   "execution_count": 24,
   "id": "58fcd608-b778-4766-808d-c05818c08b4d",
   "metadata": {},
   "outputs": [],
   "source": [
    "arguments = (1,2,3,4,5)"
   ]
  },
  {
   "cell_type": "code",
   "execution_count": 25,
   "id": "57f92513-22fb-491d-88f4-7361b2e5777c",
   "metadata": {},
   "outputs": [
    {
     "name": "stdout",
     "output_type": "stream",
     "text": [
      "a = 1\n",
      "b = 2\n",
      "args (tuple)= (3, 4, 5)\n",
      "args (unpack)= 3 4 5\n",
      "\t- 3\n",
      "\t- 4\n",
      "\t- 5\n"
     ]
    }
   ],
   "source": [
    "# unpack during function call\n",
    "f(*arguments) # i.e. f(arguments[0], arguments[1], ..., arguments[4])"
   ]
  },
  {
   "cell_type": "code",
   "execution_count": 26,
   "id": "f619d071-6ee4-4ca5-ace2-c7bca4e6ce5d",
   "metadata": {},
   "outputs": [
    {
     "name": "stdout",
     "output_type": "stream",
     "text": [
      "1\n",
      "2\n",
      "3\n",
      "4\n",
      "5\n"
     ]
    }
   ],
   "source": [
    "# unpack during assignment\n",
    "a, b, c, d, e = arguments\n",
    "print(a, b, c, d, e, sep='\\n')"
   ]
  },
  {
   "cell_type": "code",
   "execution_count": 27,
   "id": "036bb025-2c12-4873-9ff0-54f5ccc7a37e",
   "metadata": {},
   "outputs": [],
   "source": [
    "def g(a, b, *args, color='red', **kwargs):\n",
    "    print('a =', a)\n",
    "    print('b =', b)\n",
    "    print('args (tuple)=', args)\n",
    "    print('args (unpack)=', *args)\n",
    "    for arg in args:\n",
    "        print(f\"\\t- {arg}\")\n",
    "    print('color =', color)\n",
    "    print('kwargs =', kwargs)\n",
    "    nb = 1\n",
    "    jour = 'monday'\n",
    "    for k, v in kwargs.items():\n",
    "        match k:\n",
    "            case 'nb':\n",
    "                print(f'Handle arg nb: {v}') \n",
    "                nb = v\n",
    "            case 'jour':\n",
    "                print(f'Handle arg jour: {v}')\n",
    "                jour = v\n",
    "            case _:\n",
    "                # pass # tolerent\n",
    "                raise ValueError(f'Unknown argument: {k}')\n",
    "    print(f'extra args resolved: nb={nb}, jour={jour}')"
   ]
  },
  {
   "cell_type": "code",
   "execution_count": 28,
   "id": "f5bd0cbd-ce9d-4732-b062-8a3247a31e7b",
   "metadata": {},
   "outputs": [
    {
     "name": "stdout",
     "output_type": "stream",
     "text": [
      "a = 1\n",
      "b = 2\n",
      "args (tuple)= (3,)\n",
      "args (unpack)= 3\n",
      "\t- 3\n",
      "color = red\n",
      "kwargs = {}\n",
      "extra args resolved: nb=1, jour=monday\n"
     ]
    }
   ],
   "source": [
    "g(1,2,3)"
   ]
  },
  {
   "cell_type": "code",
   "execution_count": 29,
   "id": "597c59d2-b2d2-42d4-99c3-c2cca35e310d",
   "metadata": {},
   "outputs": [
    {
     "name": "stdout",
     "output_type": "stream",
     "text": [
      "a = 1\n",
      "b = 2\n",
      "args (tuple)= (3,)\n",
      "args (unpack)= 3\n",
      "\t- 3\n",
      "color = red\n",
      "kwargs = {'nb': 10, 'jour': 'mardi'}\n",
      "Handle arg nb: 10\n",
      "Handle arg jour: mardi\n",
      "extra args resolved: nb=10, jour=mardi\n"
     ]
    }
   ],
   "source": [
    "g(1, 2, 3, nb=10 , jour='mardi') "
   ]
  },
  {
   "cell_type": "code",
   "execution_count": 64,
   "id": "92e839d6-3e43-448c-9797-0cb8beef91c1",
   "metadata": {},
   "outputs": [
    {
     "name": "stdout",
     "output_type": "stream",
     "text": [
      "a = 1\n",
      "b = 2\n",
      "args (tuple)= (3,)\n",
      "args (unpack)= 3\n",
      "\t- 3\n",
      "color = green\n",
      "kwargs = {'nb': 10, 'jour': 'mardi'}\n",
      "Handle arg nb: 10\n",
      "Handle arg jour: mardi\n",
      "extra args resolved: nb=10, jour=mardi\n"
     ]
    }
   ],
   "source": [
    "g(1, 2, 3, nb=10 , color='green', jour='mardi') "
   ]
  },
  {
   "cell_type": "code",
   "execution_count": 62,
   "id": "5f4c05f7-f113-47e9-a06a-a452bcb06494",
   "metadata": {},
   "outputs": [],
   "source": [
    "## ValueError: Unknown argument: aaaa\n",
    "# g(1, 2, aaaa='not possible')"
   ]
  },
  {
   "cell_type": "code",
   "execution_count": 66,
   "id": "c871d219-cdf7-49fc-a581-74d04d425388",
   "metadata": {},
   "outputs": [
    {
     "name": "stdout",
     "output_type": "stream",
     "text": [
      "a = 1\n",
      "b = 2\n",
      "args (tuple)= ()\n",
      "args (unpack)=\n",
      "color = blue\n",
      "kwargs = {'nb': 12, 'jour': 'wednesday'}\n",
      "Handle arg nb: 12\n",
      "Handle arg jour: wednesday\n",
      "extra args resolved: nb=12, jour=wednesday\n"
     ]
    }
   ],
   "source": [
    "params = {\n",
    "    'color': 'blue',\n",
    "    'jour': 'wednesday'\n",
    "}\n",
    "g(1, 2, nb=12, **params)"
   ]
  },
  {
   "cell_type": "code",
   "execution_count": 68,
   "id": "a52fd9b5-4104-4c9e-9e74-b9fc158cce13",
   "metadata": {},
   "outputs": [],
   "source": [
    "def h(*args, **kwargs):\n",
    "    print('local h processing....')\n",
    "    print()\n",
    "    if len(args) >=2:\n",
    "        g(*args, **kwargs)"
   ]
  },
  {
   "cell_type": "code",
   "execution_count": 70,
   "id": "d720759f-87bb-43b8-a289-6b343be0fe8d",
   "metadata": {},
   "outputs": [
    {
     "name": "stdout",
     "output_type": "stream",
     "text": [
      "local h processing....\n",
      "\n",
      "a = 1\n",
      "b = 2\n",
      "args (tuple)= (3, 4, 5)\n",
      "args (unpack)= 3 4 5\n",
      "\t- 3\n",
      "\t- 4\n",
      "\t- 5\n",
      "color = yellow\n",
      "kwargs = {'jour': 'sunday'}\n",
      "Handle arg jour: sunday\n",
      "extra args resolved: nb=1, jour=sunday\n"
     ]
    }
   ],
   "source": [
    "h(1,2,3,4,5, jour='sunday', color='yellow')"
   ]
  }
 ],
 "metadata": {
  "kernelspec": {
   "display_name": "Python 3 (ipykernel)",
   "language": "python",
   "name": "python3"
  },
  "language_info": {
   "codemirror_mode": {
    "name": "ipython",
    "version": 3
   },
   "file_extension": ".py",
   "mimetype": "text/x-python",
   "name": "python",
   "nbconvert_exporter": "python",
   "pygments_lexer": "ipython3",
   "version": "3.12.3"
  }
 },
 "nbformat": 4,
 "nbformat_minor": 5
}

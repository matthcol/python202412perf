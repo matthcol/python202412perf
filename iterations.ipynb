{
 "cells": [
  {
   "cell_type": "markdown",
   "id": "3ef72edd-ba27-49b1-ab75-d1e4ad6727de",
   "metadata": {},
   "source": [
    "# Iteration"
   ]
  },
  {
   "cell_type": "code",
   "execution_count": 93,
   "id": "46522b50-b072-4460-b504-4742a8d22567",
   "metadata": {},
   "outputs": [],
   "source": [
    "from itertools import chain\n",
    "from collections.abc import Iterable, Iterator, Sized, Container, Sequence"
   ]
  },
  {
   "cell_type": "code",
   "execution_count": 3,
   "id": "49a860f7-a757-4a80-bb21-d66721bd0bf7",
   "metadata": {},
   "outputs": [],
   "source": [
    "cities = [\n",
    "    'Toulouse',\n",
    "    'Grenoble',\n",
    "    'Aix-en-Provence',\n",
    "    'Montpellier',\n",
    "]\n",
    "\n",
    "cities2 = [\n",
    "    'Bayonne',\n",
    "    'Marseille',\n",
    "    'Lyon',\n",
    "    'Bordeaux',\n",
    "]"
   ]
  },
  {
   "cell_type": "code",
   "execution_count": 4,
   "id": "a389ec99-f507-429e-a207-c8b5f3ad66da",
   "metadata": {},
   "outputs": [
    {
     "name": "stdout",
     "output_type": "stream",
     "text": [
      "Toulouse\n",
      "Grenoble\n",
      "Aix-en-Provence\n",
      "Montpellier\n",
      "['TOULOUSE', 'GRENOBLE', 'AIX-EN-PROVENCE', 'MONTPELLIER']\n",
      "42\n",
      "42\n",
      "1042\n",
      "{'Toulouse': 8, 'Grenoble': 8, 'Aix-en-Provence': 15, 'Montpellier': 11}\n",
      "\n",
      "#0# Toulouse\n",
      "#1# Grenoble\n",
      "#2# Aix-en-Provence\n",
      "#3# Montpellier\n",
      "\n",
      "#1# Toulouse\n",
      "#2# Grenoble\n",
      "#3# Aix-en-Provence\n",
      "#4# Montpellier\n",
      "\n",
      "#0# Toulouse\n",
      "#1# Grenoble\n",
      "#2# Aix-en-Provence\n",
      "#3# Montpellier\n",
      "\n",
      "#Toulouse#1#a\n",
      "#Grenoble#2#b\n",
      "#Aix-en-Provence#3#c\n",
      "#Montpellier#4#d\n",
      "\n",
      "Toulouse\n",
      "Grenoble\n",
      "Aix-en-Provence\n",
      "Montpellier\n",
      "Bayonne\n",
      "Marseille\n",
      "Lyon\n",
      "Bordeaux\n",
      "\n",
      "are all city lengths > 5: True\n",
      "is any city with length > 10 True\n",
      "\n",
      "{'name': 'Toulouse', 'population': 477000, 'zipcode': '31000'}\n",
      "{'name': 'Toulouse', 'population': 477000, 'zipcode': '31000'}\n"
     ]
    }
   ],
   "source": [
    "# instruction for\n",
    "for city in cities:\n",
    "    print(city)\n",
    "\n",
    "# expression for: list comprehension\n",
    "cities_u = [ city.upper() for city in cities ]\n",
    "print(cities_u)\n",
    "\n",
    "# expression for: generator expression\n",
    "length_generator = (len(city) for city in cities)\n",
    "# repr: <generator object <genexpr> at 0x0000022F5D474040>\n",
    "letter_count = sum(length_generator)\n",
    "print(letter_count)\n",
    "\n",
    "# same thing\n",
    "letter_count = sum(len(city) for city in cities)\n",
    "print(letter_count)\n",
    "\n",
    "letter_count = sum((len(city) for city in cities), start=1000)\n",
    "print(letter_count)\n",
    "\n",
    "# expression for: dict comprehension\n",
    "city_length_dict = { city: len(city) for city in cities }\n",
    "print(city_length_dict) # {'Toulouse': 8, 'Grenoble': 8, 'Aix-en-Provence': 15, 'Montpellier': 11}\n",
    "\n",
    "# enumerate:\n",
    "print()\n",
    "for i, city in enumerate(cities):\n",
    "    print(f\"#{i}# {city}\")\n",
    "\n",
    "print()\n",
    "for i, city in enumerate(cities, start=1):\n",
    "    print(f\"#{i}# {city}\")\n",
    "\n",
    "# ! avoid index indirection:\n",
    "print()\n",
    "for i in range(len(cities)):\n",
    "    print(f\"#{i}# {cities[i]}\")\n",
    "\n",
    "# iterate with zip\n",
    "print()\n",
    "for city, n, letter in zip(cities, range(1,1000), 'abcdefghijklmnopqrstuvwxyz'):\n",
    "    print(f\"#{city}#{n}#{letter}\")\n",
    "\n",
    "# chain of iterables (module itertools)\n",
    "print()\n",
    "for city in chain(cities, cities2):\n",
    "    print(city)\n",
    "\n",
    "# Recap: builtin functions with arg iterable\n",
    "# list, tuple, dict\n",
    "# map, filter\n",
    "# sum, min, max\n",
    "# any, all\n",
    "# enumerate, zip, \n",
    "# reversed, sorted\n",
    "# iter (-> iterator)\n",
    "print()\n",
    "print(\n",
    "    \"are all city lengths > 5:\",\n",
    "    all(len(city) > 5 for city in cities)\n",
    ")\n",
    "print(\n",
    "    \"is any city with length > 10\",\n",
    "    any(len(city) > 10 for city in cities)\n",
    ")\n",
    "\n",
    "print()\n",
    "city_d = dict([\n",
    "    ('name', 'Toulouse'),\n",
    "    ('population', 477_000),\n",
    "    ('zipcode', '31000')\n",
    "])\n",
    "print(city_d)\n",
    "\n",
    "city_d = dict(\n",
    "    name='Toulouse',\n",
    "    population=477_000,\n",
    "    zipcode='31000'\n",
    ")\n",
    "print(city_d)\n",
    "# {'name': 'Toulouse', 'population': 477000, 'zipcode': '31000'}"
   ]
  },
  {
   "cell_type": "code",
   "execution_count": 5,
   "id": "450bc221-2afd-454f-8360-9cdf7d058be0",
   "metadata": {},
   "outputs": [
    {
     "data": {
      "text/plain": [
       "<list_iterator at 0x1b6cac43eb0>"
      ]
     },
     "execution_count": 5,
     "metadata": {},
     "output_type": "execute_result"
    }
   ],
   "source": [
    "it = iter(cities)\n",
    "it"
   ]
  },
  {
   "cell_type": "code",
   "execution_count": 6,
   "id": "c6d223c9-6e90-478f-921a-c724b7feeb0f",
   "metadata": {},
   "outputs": [
    {
     "data": {
      "text/plain": [
       "'Toulouse'"
      ]
     },
     "execution_count": 6,
     "metadata": {},
     "output_type": "execute_result"
    }
   ],
   "source": [
    "# evaluate this cell until exception StopIteration is raised\n",
    "next(it)"
   ]
  },
  {
   "cell_type": "code",
   "execution_count": 7,
   "id": "0bbe80a2-6e20-483b-9d55-1ca80b0c5240",
   "metadata": {},
   "outputs": [
    {
     "name": "stdout",
     "output_type": "stream",
     "text": [
      "Toulouse\n",
      "Grenoble\n",
      "Aix-en-Provence\n",
      "Montpellier\n"
     ]
    }
   ],
   "source": [
    "it = iter(cities)\n",
    "while True:\n",
    "    try:\n",
    "        city = next(it)\n",
    "        print(city)\n",
    "    except StopIteration:\n",
    "        break"
   ]
  },
  {
   "cell_type": "code",
   "execution_count": 8,
   "id": "e8c1ee91-75b4-49ae-98af-2ded96be502a",
   "metadata": {},
   "outputs": [
    {
     "data": {
      "text/plain": [
       "<list_iterator at 0x1b6c9bd03d0>"
      ]
     },
     "execution_count": 8,
     "metadata": {},
     "output_type": "execute_result"
    }
   ],
   "source": [
    "it = iter(cities)\n",
    "it"
   ]
  },
  {
   "cell_type": "code",
   "execution_count": 9,
   "id": "a4c958ce-c4b2-43a1-9b2a-5ae1e06e0a39",
   "metadata": {},
   "outputs": [
    {
     "data": {
      "text/plain": [
       "<list_iterator at 0x1b6c9bd03d0>"
      ]
     },
     "execution_count": 9,
     "metadata": {},
     "output_type": "execute_result"
    }
   ],
   "source": [
    "it2 = iter(it)\n",
    "it2"
   ]
  },
  {
   "cell_type": "code",
   "execution_count": 10,
   "id": "46306722-9e78-4637-a788-5ce0526c5192",
   "metadata": {},
   "outputs": [],
   "source": [
    "assert it is it2"
   ]
  },
  {
   "cell_type": "code",
   "execution_count": 11,
   "id": "6a95bcce-e071-4d7b-a6d2-45c59065b8c9",
   "metadata": {},
   "outputs": [
    {
     "data": {
      "text/plain": [
       "[('Toulouse', 'Grenoble'),\n",
       " ('Grenoble', 'Aix-en-Provence'),\n",
       " ('Aix-en-Provence', 'Montpellier')]"
      ]
     },
     "execution_count": 11,
     "metadata": {},
     "output_type": "execute_result"
    }
   ],
   "source": [
    "it = iter(cities)\n",
    "next(it) # advance once\n",
    "list(zip(cities, it))"
   ]
  },
  {
   "cell_type": "code",
   "execution_count": 12,
   "id": "7daa25b2-acd9-4e19-ad07-e352540d3360",
   "metadata": {},
   "outputs": [
    {
     "data": {
      "text/plain": [
       "[('Toulouse', 'TOULOUSE'),\n",
       " ('Grenoble', 'GRENOBLE'),\n",
       " ('Aix-en-Provence', 'AIX-EN-PROVENCE'),\n",
       " ('Montpellier', 'MONTPELLIER')]"
      ]
     },
     "execution_count": 12,
     "metadata": {},
     "output_type": "execute_result"
    }
   ],
   "source": [
    "list(zip(cities, (city.upper() for city in cities)))"
   ]
  },
  {
   "cell_type": "code",
   "execution_count": 13,
   "id": "5a16a9ce-886c-40c1-9850-9ddabf763d61",
   "metadata": {},
   "outputs": [
    {
     "data": {
      "text/plain": [
       "<generator object <genexpr> at 0x000001B6C9661BE0>"
      ]
     },
     "execution_count": 13,
     "metadata": {},
     "output_type": "execute_result"
    }
   ],
   "source": [
    "# what is the iterator of a genarator ?\n",
    "g = (city.upper() for city in cities)\n",
    "g"
   ]
  },
  {
   "cell_type": "code",
   "execution_count": 14,
   "id": "58d4f6d5-806c-40d1-a8f8-b47d063b03b2",
   "metadata": {},
   "outputs": [
    {
     "data": {
      "text/plain": [
       "<generator object <genexpr> at 0x000001B6C9661BE0>"
      ]
     },
     "execution_count": 14,
     "metadata": {},
     "output_type": "execute_result"
    }
   ],
   "source": [
    "it = iter(g)\n",
    "it"
   ]
  },
  {
   "cell_type": "code",
   "execution_count": 15,
   "id": "ff6e8a8b-27a5-4d66-aaf9-5438e7cc1f8d",
   "metadata": {},
   "outputs": [],
   "source": [
    "assert g is it"
   ]
  },
  {
   "cell_type": "code",
   "execution_count": 16,
   "id": "101b1520-e51f-4e85-8b6d-40e062cdd7c3",
   "metadata": {},
   "outputs": [
    {
     "data": {
      "text/plain": [
       "'TOULOUSE'"
      ]
     },
     "execution_count": 16,
     "metadata": {},
     "output_type": "execute_result"
    }
   ],
   "source": [
    "next(g)"
   ]
  },
  {
   "cell_type": "code",
   "execution_count": 17,
   "id": "fe19ee14-ff04-4076-927a-7512bdf31b2c",
   "metadata": {},
   "outputs": [
    {
     "data": {
      "text/plain": [
       "['GRENOBLE', 'AIX-EN-PROVENCE', 'MONTPELLIER']"
      ]
     },
     "execution_count": 17,
     "metadata": {},
     "output_type": "execute_result"
    }
   ],
   "source": [
    "list(g)"
   ]
  },
  {
   "cell_type": "code",
   "execution_count": 18,
   "id": "8f7fa3af-9711-498d-b1d9-ca20e0089f96",
   "metadata": {},
   "outputs": [],
   "source": [
    "def generate_inf(value):\n",
    "    while True:\n",
    "        yield value"
   ]
  },
  {
   "cell_type": "code",
   "execution_count": 19,
   "id": "cae93281-8d34-4548-a265-3ef8ec5662b4",
   "metadata": {},
   "outputs": [
    {
     "name": "stdout",
     "output_type": "stream",
     "text": [
      "1\n",
      "1\n",
      "1\n",
      "1\n",
      "1\n",
      "1\n",
      "1\n",
      "1\n",
      "1\n",
      "1\n",
      "1\n"
     ]
    }
   ],
   "source": [
    "g = generate_inf(1)\n",
    "for _ in range(11):\n",
    "    print(next(g))"
   ]
  },
  {
   "cell_type": "code",
   "execution_count": 38,
   "id": "c0396df3-677a-4647-8a9a-d094997ef25e",
   "metadata": {},
   "outputs": [],
   "source": [
    "def generate_123():\n",
    "    yield 1\n",
    "    yield 2\n",
    "    yield 3"
   ]
  },
  {
   "cell_type": "code",
   "execution_count": 40,
   "id": "29f6f5e7-0bde-4bfd-9a76-36d9bb001b11",
   "metadata": {},
   "outputs": [
    {
     "data": {
      "text/plain": [
       "<generator object generate_123 at 0x000001B6C96790C0>"
      ]
     },
     "execution_count": 40,
     "metadata": {},
     "output_type": "execute_result"
    }
   ],
   "source": [
    "generate_123()"
   ]
  },
  {
   "cell_type": "code",
   "execution_count": 42,
   "id": "da3346aa-c9f4-43f3-a070-b5e8309383d1",
   "metadata": {},
   "outputs": [
    {
     "name": "stdout",
     "output_type": "stream",
     "text": [
      "1\n",
      "2\n",
      "3\n"
     ]
    }
   ],
   "source": [
    "for v in generate_123():\n",
    "    print(v)"
   ]
  },
  {
   "cell_type": "code",
   "execution_count": 44,
   "id": "42f7875b-37e5-4541-9291-2df49e875a64",
   "metadata": {},
   "outputs": [
    {
     "data": {
      "text/plain": [
       "6"
      ]
     },
     "execution_count": 44,
     "metadata": {},
     "output_type": "execute_result"
    }
   ],
   "source": [
    "sum(generate_123())"
   ]
  },
  {
   "cell_type": "markdown",
   "id": "8fdf6e4b-9411-4818-aaeb-32e74f2189ae",
   "metadata": {},
   "source": [
    "## Exercise: generate numbers of Fibonacci sequence: 0 1 1 2 3 5 8 13 ...\n",
    "- version 1: infinite generator\n",
    "- version 2: limited to n values"
   ]
  },
  {
   "cell_type": "code",
   "execution_count": 49,
   "id": "e3b2d6d9-ef74-434d-8801-ba53a1558b51",
   "metadata": {},
   "outputs": [],
   "source": [
    "def fibonacci():\n",
    "    a, b = 0, 1\n",
    "    while True:\n",
    "        yield a\n",
    "        a, b = b, a + b"
   ]
  },
  {
   "cell_type": "code",
   "execution_count": 55,
   "id": "8e5739f7-16ca-4b5e-b0fa-9831cef35e93",
   "metadata": {},
   "outputs": [
    {
     "data": {
      "text/plain": [
       "[0, 1, 1, 2, 3, 5, 8, 13, 21, 34]"
      ]
     },
     "execution_count": 55,
     "metadata": {},
     "output_type": "execute_result"
    }
   ],
   "source": [
    "g = fibonacci()\n",
    "values = [next(g) for _ in range(10)] # 10 first values\n",
    "values"
   ]
  },
  {
   "cell_type": "code",
   "execution_count": 57,
   "id": "ba969c8f-3786-46f7-a189-6900143f546d",
   "metadata": {},
   "outputs": [
    {
     "data": {
      "text/plain": [
       "[55, 89, 144, 233, 377, 610, 987, 1597, 2584, 4181]"
      ]
     },
     "execution_count": 57,
     "metadata": {},
     "output_type": "execute_result"
    }
   ],
   "source": [
    "[next(g) for _ in range(10)]"
   ]
  },
  {
   "cell_type": "code",
   "execution_count": 59,
   "id": "6b32211d-ba4b-4771-b7e9-500d16b96cd9",
   "metadata": {},
   "outputs": [
    {
     "data": {
      "text/plain": [
       "[6765, 10946, 17711, 28657, 46368, 75025, 121393, 196418, 317811, 514229]"
      ]
     },
     "execution_count": 59,
     "metadata": {},
     "output_type": "execute_result"
    }
   ],
   "source": [
    "[next(g) for _ in range(10)]"
   ]
  },
  {
   "cell_type": "code",
   "execution_count": 61,
   "id": "6ce19c5c-63d8-4285-8fd5-caeb8b469a84",
   "metadata": {},
   "outputs": [
    {
     "data": {
      "text/plain": [
       "function"
      ]
     },
     "execution_count": 61,
     "metadata": {},
     "output_type": "execute_result"
    }
   ],
   "source": [
    "type(fibonacci)"
   ]
  },
  {
   "cell_type": "code",
   "execution_count": 65,
   "id": "c17029c3-c010-4719-835b-e05cdb8957eb",
   "metadata": {},
   "outputs": [
    {
     "data": {
      "text/plain": [
       "generator"
      ]
     },
     "execution_count": 65,
     "metadata": {},
     "output_type": "execute_result"
    }
   ],
   "source": [
    "type(fibonacci())"
   ]
  },
  {
   "cell_type": "code",
   "execution_count": 51,
   "id": "e115f21e-1cea-4936-b41b-dfaf8e766933",
   "metadata": {},
   "outputs": [],
   "source": [
    "def fibonacci_n(n):\n",
    "    a, b = 0, 1\n",
    "    for _ in range(n):\n",
    "        yield a\n",
    "        a, b = b, a + b"
   ]
  },
  {
   "cell_type": "code",
   "execution_count": 53,
   "id": "a653ec15-9ddf-40e5-ac0c-864173d8b68d",
   "metadata": {},
   "outputs": [
    {
     "data": {
      "text/plain": [
       "[0, 1, 1, 2, 3, 5, 8, 13, 21, 34]"
      ]
     },
     "execution_count": 53,
     "metadata": {},
     "output_type": "execute_result"
    }
   ],
   "source": [
    "values = list(fibonacci_n(10))\n",
    "values"
   ]
  },
  {
   "cell_type": "code",
   "execution_count": 73,
   "id": "6834a763-e63d-4908-897b-bf32f8111095",
   "metadata": {},
   "outputs": [
    {
     "data": {
      "text/plain": [
       "<method-wrapper '__iter__' of list object at 0x000001B6C9681100>"
      ]
     },
     "execution_count": 73,
     "metadata": {},
     "output_type": "execute_result"
    }
   ],
   "source": [
    "# an iterable object has '__iter__' method\n",
    "cities.__iter__"
   ]
  },
  {
   "cell_type": "code",
   "execution_count": 75,
   "id": "7624937f-0d57-49a4-bfa1-37772c886e76",
   "metadata": {},
   "outputs": [
    {
     "data": {
      "text/plain": [
       "<method-wrapper '__next__' of list_iterator object at 0x000001B6CCF66C50>"
      ]
     },
     "execution_count": 75,
     "metadata": {},
     "output_type": "execute_result"
    }
   ],
   "source": [
    "# an iterator object has '__next__' and '__iter__' method \n",
    "it = iter(cities)\n",
    "it.__next__"
   ]
  },
  {
   "cell_type": "code",
   "execution_count": 71,
   "id": "d45b2c26-c72d-42ef-b31a-97448f442731",
   "metadata": {},
   "outputs": [
    {
     "data": {
      "text/plain": [
       "<method-wrapper '__iter__' of list_iterator object at 0x000001B6CCFD3FD0>"
      ]
     },
     "execution_count": 71,
     "metadata": {},
     "output_type": "execute_result"
    }
   ],
   "source": [
    "it.__iter__"
   ]
  },
  {
   "cell_type": "code",
   "execution_count": 89,
   "id": "3b159306-3550-460f-8548-96cb32f0d26a",
   "metadata": {},
   "outputs": [],
   "source": [
    "assert isinstance(cities, Iterable)\n",
    "assert not isinstance(cities, Iterator)"
   ]
  },
  {
   "cell_type": "code",
   "execution_count": 85,
   "id": "456da482-e19f-4639-bad4-709250253a85",
   "metadata": {},
   "outputs": [],
   "source": [
    "assert isinstance(it, Iterator)\n",
    "assert isinstance(it, Iterable)"
   ]
  },
  {
   "cell_type": "code",
   "execution_count": 91,
   "id": "8cc608a0-c38d-472b-9fd2-19c7df51caff",
   "metadata": {},
   "outputs": [],
   "source": [
    "g = fibonacci_n(10)\n",
    "assert isinstance(g, Iterator)\n",
    "assert isinstance(g, Iterable)"
   ]
  },
  {
   "cell_type": "code",
   "execution_count": 95,
   "id": "d4c83687-c22a-4f06-b83f-57fbbd645b6f",
   "metadata": {},
   "outputs": [],
   "source": [
    "# a list is Iterable + ....\n",
    "assert isinstance(cities, Iterable)\n",
    "assert isinstance(cities, Sized)\n",
    "assert isinstance(cities, Container)\n",
    "assert isinstance(cities, Sequence)"
   ]
  },
  {
   "cell_type": "code",
   "execution_count": null,
   "id": "8a2b2395-e579-40fe-a465-74aad266840b",
   "metadata": {},
   "outputs": [],
   "source": []
  }
 ],
 "metadata": {
  "kernelspec": {
   "display_name": "Python 3 (ipykernel)",
   "language": "python",
   "name": "python3"
  },
  "language_info": {
   "codemirror_mode": {
    "name": "ipython",
    "version": 3
   },
   "file_extension": ".py",
   "mimetype": "text/x-python",
   "name": "python",
   "nbconvert_exporter": "python",
   "pygments_lexer": "ipython3",
   "version": "3.12.3"
  }
 },
 "nbformat": 4,
 "nbformat_minor": 5
}

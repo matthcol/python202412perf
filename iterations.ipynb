{
 "cells": [
  {
   "cell_type": "markdown",
   "id": "3ef72edd-ba27-49b1-ab75-d1e4ad6727de",
   "metadata": {},
   "source": [
    "# Iteration"
   ]
  },
  {
   "cell_type": "code",
   "execution_count": 263,
   "id": "46522b50-b072-4460-b504-4742a8d22567",
   "metadata": {},
   "outputs": [],
   "source": [
    "from itertools import chain\n",
    "from collections.abc import Iterable, Iterator, Sized, Container, Sequence\n",
    "import numpy as np\n",
    "from dataclasses import dataclass"
   ]
  },
  {
   "cell_type": "code",
   "execution_count": 3,
   "id": "49a860f7-a757-4a80-bb21-d66721bd0bf7",
   "metadata": {},
   "outputs": [],
   "source": [
    "cities = [\n",
    "    'Toulouse',\n",
    "    'Grenoble',\n",
    "    'Aix-en-Provence',\n",
    "    'Montpellier',\n",
    "]\n",
    "\n",
    "cities2 = [\n",
    "    'Bayonne',\n",
    "    'Marseille',\n",
    "    'Lyon',\n",
    "    'Bordeaux',\n",
    "]"
   ]
  },
  {
   "cell_type": "code",
   "execution_count": 4,
   "id": "a389ec99-f507-429e-a207-c8b5f3ad66da",
   "metadata": {},
   "outputs": [
    {
     "name": "stdout",
     "output_type": "stream",
     "text": [
      "Toulouse\n",
      "Grenoble\n",
      "Aix-en-Provence\n",
      "Montpellier\n",
      "['TOULOUSE', 'GRENOBLE', 'AIX-EN-PROVENCE', 'MONTPELLIER']\n",
      "42\n",
      "42\n",
      "1042\n",
      "{'Toulouse': 8, 'Grenoble': 8, 'Aix-en-Provence': 15, 'Montpellier': 11}\n",
      "\n",
      "#0# Toulouse\n",
      "#1# Grenoble\n",
      "#2# Aix-en-Provence\n",
      "#3# Montpellier\n",
      "\n",
      "#1# Toulouse\n",
      "#2# Grenoble\n",
      "#3# Aix-en-Provence\n",
      "#4# Montpellier\n",
      "\n",
      "#0# Toulouse\n",
      "#1# Grenoble\n",
      "#2# Aix-en-Provence\n",
      "#3# Montpellier\n",
      "\n",
      "#Toulouse#1#a\n",
      "#Grenoble#2#b\n",
      "#Aix-en-Provence#3#c\n",
      "#Montpellier#4#d\n",
      "\n",
      "Toulouse\n",
      "Grenoble\n",
      "Aix-en-Provence\n",
      "Montpellier\n",
      "Bayonne\n",
      "Marseille\n",
      "Lyon\n",
      "Bordeaux\n",
      "\n",
      "are all city lengths > 5: True\n",
      "is any city with length > 10 True\n",
      "\n",
      "{'name': 'Toulouse', 'population': 477000, 'zipcode': '31000'}\n",
      "{'name': 'Toulouse', 'population': 477000, 'zipcode': '31000'}\n"
     ]
    }
   ],
   "source": [
    "# instruction for\n",
    "for city in cities:\n",
    "    print(city)\n",
    "\n",
    "# expression for: list comprehension\n",
    "cities_u = [ city.upper() for city in cities ]\n",
    "print(cities_u)\n",
    "\n",
    "# expression for: generator expression\n",
    "length_generator = (len(city) for city in cities)\n",
    "# repr: <generator object <genexpr> at 0x0000022F5D474040>\n",
    "letter_count = sum(length_generator)\n",
    "print(letter_count)\n",
    "\n",
    "# same thing\n",
    "letter_count = sum(len(city) for city in cities)\n",
    "print(letter_count)\n",
    "\n",
    "letter_count = sum((len(city) for city in cities), start=1000)\n",
    "print(letter_count)\n",
    "\n",
    "# expression for: dict comprehension\n",
    "city_length_dict = { city: len(city) for city in cities }\n",
    "print(city_length_dict) # {'Toulouse': 8, 'Grenoble': 8, 'Aix-en-Provence': 15, 'Montpellier': 11}\n",
    "\n",
    "# enumerate:\n",
    "print()\n",
    "for i, city in enumerate(cities):\n",
    "    print(f\"#{i}# {city}\")\n",
    "\n",
    "print()\n",
    "for i, city in enumerate(cities, start=1):\n",
    "    print(f\"#{i}# {city}\")\n",
    "\n",
    "# ! avoid index indirection:\n",
    "print()\n",
    "for i in range(len(cities)):\n",
    "    print(f\"#{i}# {cities[i]}\")\n",
    "\n",
    "# iterate with zip\n",
    "print()\n",
    "for city, n, letter in zip(cities, range(1,1000), 'abcdefghijklmnopqrstuvwxyz'):\n",
    "    print(f\"#{city}#{n}#{letter}\")\n",
    "\n",
    "# chain of iterables (module itertools)\n",
    "print()\n",
    "for city in chain(cities, cities2):\n",
    "    print(city)\n",
    "\n",
    "# Recap: builtin functions with arg iterable\n",
    "# list, tuple, dict\n",
    "# map, filter\n",
    "# sum, min, max\n",
    "# any, all\n",
    "# enumerate, zip, \n",
    "# reversed, sorted\n",
    "# iter (-> iterator)\n",
    "print()\n",
    "print(\n",
    "    \"are all city lengths > 5:\",\n",
    "    all(len(city) > 5 for city in cities)\n",
    ")\n",
    "print(\n",
    "    \"is any city with length > 10\",\n",
    "    any(len(city) > 10 for city in cities)\n",
    ")\n",
    "\n",
    "print()\n",
    "city_d = dict([\n",
    "    ('name', 'Toulouse'),\n",
    "    ('population', 477_000),\n",
    "    ('zipcode', '31000')\n",
    "])\n",
    "print(city_d)\n",
    "\n",
    "city_d = dict(\n",
    "    name='Toulouse',\n",
    "    population=477_000,\n",
    "    zipcode='31000'\n",
    ")\n",
    "print(city_d)\n",
    "# {'name': 'Toulouse', 'population': 477000, 'zipcode': '31000'}"
   ]
  },
  {
   "cell_type": "code",
   "execution_count": 5,
   "id": "450bc221-2afd-454f-8360-9cdf7d058be0",
   "metadata": {},
   "outputs": [
    {
     "data": {
      "text/plain": [
       "<list_iterator at 0x1b6cac43eb0>"
      ]
     },
     "execution_count": 5,
     "metadata": {},
     "output_type": "execute_result"
    }
   ],
   "source": [
    "it = iter(cities)\n",
    "it"
   ]
  },
  {
   "cell_type": "code",
   "execution_count": 6,
   "id": "c6d223c9-6e90-478f-921a-c724b7feeb0f",
   "metadata": {},
   "outputs": [
    {
     "data": {
      "text/plain": [
       "'Toulouse'"
      ]
     },
     "execution_count": 6,
     "metadata": {},
     "output_type": "execute_result"
    }
   ],
   "source": [
    "# evaluate this cell until exception StopIteration is raised\n",
    "next(it)"
   ]
  },
  {
   "cell_type": "code",
   "execution_count": 7,
   "id": "0bbe80a2-6e20-483b-9d55-1ca80b0c5240",
   "metadata": {},
   "outputs": [
    {
     "name": "stdout",
     "output_type": "stream",
     "text": [
      "Toulouse\n",
      "Grenoble\n",
      "Aix-en-Provence\n",
      "Montpellier\n"
     ]
    }
   ],
   "source": [
    "it = iter(cities)\n",
    "while True:\n",
    "    try:\n",
    "        city = next(it)\n",
    "        print(city)\n",
    "    except StopIteration:\n",
    "        break"
   ]
  },
  {
   "cell_type": "code",
   "execution_count": 8,
   "id": "e8c1ee91-75b4-49ae-98af-2ded96be502a",
   "metadata": {},
   "outputs": [
    {
     "data": {
      "text/plain": [
       "<list_iterator at 0x1b6c9bd03d0>"
      ]
     },
     "execution_count": 8,
     "metadata": {},
     "output_type": "execute_result"
    }
   ],
   "source": [
    "it = iter(cities)\n",
    "it"
   ]
  },
  {
   "cell_type": "code",
   "execution_count": 9,
   "id": "a4c958ce-c4b2-43a1-9b2a-5ae1e06e0a39",
   "metadata": {},
   "outputs": [
    {
     "data": {
      "text/plain": [
       "<list_iterator at 0x1b6c9bd03d0>"
      ]
     },
     "execution_count": 9,
     "metadata": {},
     "output_type": "execute_result"
    }
   ],
   "source": [
    "it2 = iter(it)\n",
    "it2"
   ]
  },
  {
   "cell_type": "code",
   "execution_count": 10,
   "id": "46306722-9e78-4637-a788-5ce0526c5192",
   "metadata": {},
   "outputs": [],
   "source": [
    "assert it is it2"
   ]
  },
  {
   "cell_type": "code",
   "execution_count": 11,
   "id": "6a95bcce-e071-4d7b-a6d2-45c59065b8c9",
   "metadata": {},
   "outputs": [
    {
     "data": {
      "text/plain": [
       "[('Toulouse', 'Grenoble'),\n",
       " ('Grenoble', 'Aix-en-Provence'),\n",
       " ('Aix-en-Provence', 'Montpellier')]"
      ]
     },
     "execution_count": 11,
     "metadata": {},
     "output_type": "execute_result"
    }
   ],
   "source": [
    "it = iter(cities)\n",
    "next(it) # advance once\n",
    "list(zip(cities, it))"
   ]
  },
  {
   "cell_type": "code",
   "execution_count": 12,
   "id": "7daa25b2-acd9-4e19-ad07-e352540d3360",
   "metadata": {},
   "outputs": [
    {
     "data": {
      "text/plain": [
       "[('Toulouse', 'TOULOUSE'),\n",
       " ('Grenoble', 'GRENOBLE'),\n",
       " ('Aix-en-Provence', 'AIX-EN-PROVENCE'),\n",
       " ('Montpellier', 'MONTPELLIER')]"
      ]
     },
     "execution_count": 12,
     "metadata": {},
     "output_type": "execute_result"
    }
   ],
   "source": [
    "list(zip(cities, (city.upper() for city in cities)))"
   ]
  },
  {
   "cell_type": "code",
   "execution_count": 13,
   "id": "5a16a9ce-886c-40c1-9850-9ddabf763d61",
   "metadata": {},
   "outputs": [
    {
     "data": {
      "text/plain": [
       "<generator object <genexpr> at 0x000001B6C9661BE0>"
      ]
     },
     "execution_count": 13,
     "metadata": {},
     "output_type": "execute_result"
    }
   ],
   "source": [
    "# what is the iterator of a genarator ?\n",
    "g = (city.upper() for city in cities)\n",
    "g"
   ]
  },
  {
   "cell_type": "code",
   "execution_count": 14,
   "id": "58d4f6d5-806c-40d1-a8f8-b47d063b03b2",
   "metadata": {},
   "outputs": [
    {
     "data": {
      "text/plain": [
       "<generator object <genexpr> at 0x000001B6C9661BE0>"
      ]
     },
     "execution_count": 14,
     "metadata": {},
     "output_type": "execute_result"
    }
   ],
   "source": [
    "it = iter(g)\n",
    "it"
   ]
  },
  {
   "cell_type": "code",
   "execution_count": 15,
   "id": "ff6e8a8b-27a5-4d66-aaf9-5438e7cc1f8d",
   "metadata": {},
   "outputs": [],
   "source": [
    "assert g is it"
   ]
  },
  {
   "cell_type": "code",
   "execution_count": 16,
   "id": "101b1520-e51f-4e85-8b6d-40e062cdd7c3",
   "metadata": {},
   "outputs": [
    {
     "data": {
      "text/plain": [
       "'TOULOUSE'"
      ]
     },
     "execution_count": 16,
     "metadata": {},
     "output_type": "execute_result"
    }
   ],
   "source": [
    "next(g)"
   ]
  },
  {
   "cell_type": "code",
   "execution_count": 17,
   "id": "fe19ee14-ff04-4076-927a-7512bdf31b2c",
   "metadata": {},
   "outputs": [
    {
     "data": {
      "text/plain": [
       "['GRENOBLE', 'AIX-EN-PROVENCE', 'MONTPELLIER']"
      ]
     },
     "execution_count": 17,
     "metadata": {},
     "output_type": "execute_result"
    }
   ],
   "source": [
    "list(g)"
   ]
  },
  {
   "cell_type": "code",
   "execution_count": 18,
   "id": "8f7fa3af-9711-498d-b1d9-ca20e0089f96",
   "metadata": {},
   "outputs": [],
   "source": [
    "def generate_inf(value):\n",
    "    while True:\n",
    "        yield value"
   ]
  },
  {
   "cell_type": "code",
   "execution_count": 19,
   "id": "cae93281-8d34-4548-a265-3ef8ec5662b4",
   "metadata": {},
   "outputs": [
    {
     "name": "stdout",
     "output_type": "stream",
     "text": [
      "1\n",
      "1\n",
      "1\n",
      "1\n",
      "1\n",
      "1\n",
      "1\n",
      "1\n",
      "1\n",
      "1\n",
      "1\n"
     ]
    }
   ],
   "source": [
    "g = generate_inf(1)\n",
    "for _ in range(11):\n",
    "    print(next(g))"
   ]
  },
  {
   "cell_type": "code",
   "execution_count": 38,
   "id": "c0396df3-677a-4647-8a9a-d094997ef25e",
   "metadata": {},
   "outputs": [],
   "source": [
    "def generate_123():\n",
    "    yield 1\n",
    "    yield 2\n",
    "    yield 3"
   ]
  },
  {
   "cell_type": "code",
   "execution_count": 40,
   "id": "29f6f5e7-0bde-4bfd-9a76-36d9bb001b11",
   "metadata": {},
   "outputs": [
    {
     "data": {
      "text/plain": [
       "<generator object generate_123 at 0x000001B6C96790C0>"
      ]
     },
     "execution_count": 40,
     "metadata": {},
     "output_type": "execute_result"
    }
   ],
   "source": [
    "generate_123()"
   ]
  },
  {
   "cell_type": "code",
   "execution_count": 42,
   "id": "da3346aa-c9f4-43f3-a070-b5e8309383d1",
   "metadata": {},
   "outputs": [
    {
     "name": "stdout",
     "output_type": "stream",
     "text": [
      "1\n",
      "2\n",
      "3\n"
     ]
    }
   ],
   "source": [
    "for v in generate_123():\n",
    "    print(v)"
   ]
  },
  {
   "cell_type": "code",
   "execution_count": 44,
   "id": "42f7875b-37e5-4541-9291-2df49e875a64",
   "metadata": {},
   "outputs": [
    {
     "data": {
      "text/plain": [
       "6"
      ]
     },
     "execution_count": 44,
     "metadata": {},
     "output_type": "execute_result"
    }
   ],
   "source": [
    "sum(generate_123())"
   ]
  },
  {
   "cell_type": "markdown",
   "id": "8fdf6e4b-9411-4818-aaeb-32e74f2189ae",
   "metadata": {},
   "source": [
    "## Exercise: generate numbers of Fibonacci sequence: 0 1 1 2 3 5 8 13 ...\n",
    "- version 1: infinite generator\n",
    "- version 2: limited to n values"
   ]
  },
  {
   "cell_type": "code",
   "execution_count": 49,
   "id": "e3b2d6d9-ef74-434d-8801-ba53a1558b51",
   "metadata": {},
   "outputs": [],
   "source": [
    "def fibonacci():\n",
    "    a, b = 0, 1\n",
    "    while True:\n",
    "        yield a\n",
    "        a, b = b, a + b"
   ]
  },
  {
   "cell_type": "code",
   "execution_count": 55,
   "id": "8e5739f7-16ca-4b5e-b0fa-9831cef35e93",
   "metadata": {},
   "outputs": [
    {
     "data": {
      "text/plain": [
       "[0, 1, 1, 2, 3, 5, 8, 13, 21, 34]"
      ]
     },
     "execution_count": 55,
     "metadata": {},
     "output_type": "execute_result"
    }
   ],
   "source": [
    "g = fibonacci()\n",
    "values = [next(g) for _ in range(10)] # 10 first values\n",
    "values"
   ]
  },
  {
   "cell_type": "code",
   "execution_count": 57,
   "id": "ba969c8f-3786-46f7-a189-6900143f546d",
   "metadata": {},
   "outputs": [
    {
     "data": {
      "text/plain": [
       "[55, 89, 144, 233, 377, 610, 987, 1597, 2584, 4181]"
      ]
     },
     "execution_count": 57,
     "metadata": {},
     "output_type": "execute_result"
    }
   ],
   "source": [
    "[next(g) for _ in range(10)]"
   ]
  },
  {
   "cell_type": "code",
   "execution_count": 59,
   "id": "6b32211d-ba4b-4771-b7e9-500d16b96cd9",
   "metadata": {},
   "outputs": [
    {
     "data": {
      "text/plain": [
       "[6765, 10946, 17711, 28657, 46368, 75025, 121393, 196418, 317811, 514229]"
      ]
     },
     "execution_count": 59,
     "metadata": {},
     "output_type": "execute_result"
    }
   ],
   "source": [
    "[next(g) for _ in range(10)]"
   ]
  },
  {
   "cell_type": "code",
   "execution_count": 61,
   "id": "6ce19c5c-63d8-4285-8fd5-caeb8b469a84",
   "metadata": {},
   "outputs": [
    {
     "data": {
      "text/plain": [
       "function"
      ]
     },
     "execution_count": 61,
     "metadata": {},
     "output_type": "execute_result"
    }
   ],
   "source": [
    "type(fibonacci)"
   ]
  },
  {
   "cell_type": "code",
   "execution_count": 65,
   "id": "c17029c3-c010-4719-835b-e05cdb8957eb",
   "metadata": {},
   "outputs": [
    {
     "data": {
      "text/plain": [
       "generator"
      ]
     },
     "execution_count": 65,
     "metadata": {},
     "output_type": "execute_result"
    }
   ],
   "source": [
    "type(fibonacci())"
   ]
  },
  {
   "cell_type": "code",
   "execution_count": 247,
   "id": "e115f21e-1cea-4936-b41b-dfaf8e766933",
   "metadata": {},
   "outputs": [],
   "source": [
    "def fibonacci_n(n):\n",
    "    \"\"\"yields n first numbers of Fibonnaci sequence (starting with 0)\n",
    "\n",
    "    arguments:\n",
    "    - n: limit the number of generated values to n\n",
    "    \"\"\"\n",
    "    a, b = 0, 1\n",
    "    for _ in range(n):\n",
    "        yield a\n",
    "        a, b = b, a + b"
   ]
  },
  {
   "cell_type": "code",
   "execution_count": 249,
   "id": "363c9f60-764e-4dce-bb06-a8a72708f3c4",
   "metadata": {},
   "outputs": [
    {
     "data": {
      "text/plain": [
       "\u001b[1;31mSignature:\u001b[0m \u001b[0mfibonacci_n\u001b[0m\u001b[1;33m(\u001b[0m\u001b[0mn\u001b[0m\u001b[1;33m)\u001b[0m\u001b[1;33m\u001b[0m\u001b[1;33m\u001b[0m\u001b[0m\n",
       "\u001b[1;31mDocstring:\u001b[0m\n",
       "yields n first numbers of Fibonnaci sequence (starting with 0)\n",
       "\n",
       "arguments:\n",
       "- n: limit the number of generated values to n\n",
       "\u001b[1;31mFile:\u001b[0m      c:\\users\\matth\\appdata\\local\\temp\\ipykernel_6104\\432662187.py\n",
       "\u001b[1;31mType:\u001b[0m      function"
      ]
     },
     "metadata": {},
     "output_type": "display_data"
    }
   ],
   "source": [
    "fibonacci_n?"
   ]
  },
  {
   "cell_type": "code",
   "execution_count": 251,
   "id": "a64a2360-9be4-4809-ba05-c0a873bf9005",
   "metadata": {},
   "outputs": [
    {
     "data": {
      "text/plain": [
       "'yields n first numbers of Fibonnaci sequence (starting with 0)\\n\\n    arguments:\\n    - n: limit the number of generated values to n\\n    '"
      ]
     },
     "execution_count": 251,
     "metadata": {},
     "output_type": "execute_result"
    }
   ],
   "source": [
    "fibonacci_n.__doc__"
   ]
  },
  {
   "cell_type": "code",
   "execution_count": 53,
   "id": "a653ec15-9ddf-40e5-ac0c-864173d8b68d",
   "metadata": {},
   "outputs": [
    {
     "data": {
      "text/plain": [
       "[0, 1, 1, 2, 3, 5, 8, 13, 21, 34]"
      ]
     },
     "execution_count": 53,
     "metadata": {},
     "output_type": "execute_result"
    }
   ],
   "source": [
    "values = list(fibonacci_n(10))\n",
    "values"
   ]
  },
  {
   "cell_type": "code",
   "execution_count": 73,
   "id": "6834a763-e63d-4908-897b-bf32f8111095",
   "metadata": {},
   "outputs": [
    {
     "data": {
      "text/plain": [
       "<method-wrapper '__iter__' of list object at 0x000001B6C9681100>"
      ]
     },
     "execution_count": 73,
     "metadata": {},
     "output_type": "execute_result"
    }
   ],
   "source": [
    "# an iterable object has '__iter__' method\n",
    "cities.__iter__"
   ]
  },
  {
   "cell_type": "code",
   "execution_count": 75,
   "id": "7624937f-0d57-49a4-bfa1-37772c886e76",
   "metadata": {},
   "outputs": [
    {
     "data": {
      "text/plain": [
       "<method-wrapper '__next__' of list_iterator object at 0x000001B6CCF66C50>"
      ]
     },
     "execution_count": 75,
     "metadata": {},
     "output_type": "execute_result"
    }
   ],
   "source": [
    "# an iterator object has '__next__' and '__iter__' method \n",
    "it = iter(cities)\n",
    "it.__next__"
   ]
  },
  {
   "cell_type": "code",
   "execution_count": 71,
   "id": "d45b2c26-c72d-42ef-b31a-97448f442731",
   "metadata": {},
   "outputs": [
    {
     "data": {
      "text/plain": [
       "<method-wrapper '__iter__' of list_iterator object at 0x000001B6CCFD3FD0>"
      ]
     },
     "execution_count": 71,
     "metadata": {},
     "output_type": "execute_result"
    }
   ],
   "source": [
    "it.__iter__"
   ]
  },
  {
   "cell_type": "code",
   "execution_count": 89,
   "id": "3b159306-3550-460f-8548-96cb32f0d26a",
   "metadata": {},
   "outputs": [],
   "source": [
    "assert isinstance(cities, Iterable)\n",
    "assert not isinstance(cities, Iterator)"
   ]
  },
  {
   "cell_type": "code",
   "execution_count": 85,
   "id": "456da482-e19f-4639-bad4-709250253a85",
   "metadata": {},
   "outputs": [],
   "source": [
    "assert isinstance(it, Iterator)\n",
    "assert isinstance(it, Iterable)"
   ]
  },
  {
   "cell_type": "code",
   "execution_count": 91,
   "id": "8cc608a0-c38d-472b-9fd2-19c7df51caff",
   "metadata": {},
   "outputs": [],
   "source": [
    "g = fibonacci_n(10)\n",
    "assert isinstance(g, Iterator)\n",
    "assert isinstance(g, Iterable)"
   ]
  },
  {
   "cell_type": "code",
   "execution_count": 95,
   "id": "d4c83687-c22a-4f06-b83f-57fbbd645b6f",
   "metadata": {},
   "outputs": [],
   "source": [
    "# a list is Iterable + ....\n",
    "assert isinstance(cities, Iterable)\n",
    "assert isinstance(cities, Sized)\n",
    "assert isinstance(cities, Container)\n",
    "assert isinstance(cities, Sequence)"
   ]
  },
  {
   "cell_type": "code",
   "execution_count": 1,
   "id": "7817a41d-192e-4fb8-90c4-65fda2b4c05e",
   "metadata": {},
   "outputs": [],
   "source": [
    "def fixture_with_setup_teardown():\n",
    "    print('setup')\n",
    "    yield 123\n",
    "    print('teardown')"
   ]
  },
  {
   "cell_type": "code",
   "execution_count": 11,
   "id": "1ac9cc32-e865-4ad6-be0a-6f9ad3de64d0",
   "metadata": {},
   "outputs": [],
   "source": [
    "g = fixture_with_setup_teardown()"
   ]
  },
  {
   "cell_type": "code",
   "execution_count": 13,
   "id": "29c810f0-3ef8-452b-98b7-2f977b62afb8",
   "metadata": {},
   "outputs": [
    {
     "name": "stdout",
     "output_type": "stream",
     "text": [
      "setup\n"
     ]
    }
   ],
   "source": [
    "param = next(g)"
   ]
  },
  {
   "cell_type": "code",
   "execution_count": 15,
   "id": "d973dbb9-ab7d-4da7-8f1c-a03ffc7b6e56",
   "metadata": {},
   "outputs": [
    {
     "name": "stdout",
     "output_type": "stream",
     "text": [
      "123\n"
     ]
    }
   ],
   "source": [
    "#use param\n",
    "print(param)"
   ]
  },
  {
   "cell_type": "code",
   "execution_count": 17,
   "id": "2ed26229-3d79-4415-ba43-caf30ac21073",
   "metadata": {},
   "outputs": [
    {
     "name": "stdout",
     "output_type": "stream",
     "text": [
      "teardown\n"
     ]
    }
   ],
   "source": [
    "try: \n",
    "    next(g)\n",
    "except StopIteration:\n",
    "    pass"
   ]
  },
  {
   "cell_type": "markdown",
   "id": "75e3ee3d-cac9-4246-b680-53f67682dcad",
   "metadata": {},
   "source": [
    "## Méthodes d'implémentation\n",
    "- builtins:\n",
    "    - len: `__len__`\n",
    "    - repr: `__repr__`\n",
    "    - str: `__str__`\n",
    "    - iter: `__iter__`\n",
    "    - next: `__next__`\n",
    "    - bool: `__bool__` (truthness of an object)\n",
    "- operators:\n",
    "    - ==, != : `__eq__`, `__ne__`\n",
    "    - <, <=, >, >= : `__lt__`, `__le__` , `__gt__` , `__ge__`,\n",
    "    - `+` : `__add__`, `__radd__` (idem: -, *, /, //, **, %, @)\n",
    "    - += : `__iadd__` (idem: -=, *=, /=, //=, %= , **=, @=)\n",
    "    - in : `__contains__`\n",
    "- instance, class\n",
    "    - constructor: `__init__` (just after `__new__`)\n",
    "    - type: `__class__` (attribute)\n",
    "    - docstring (IDE, help, ?): `__doc__` (attribute)\n",
    "    - dictionnary: __dict__`"
   ]
  },
  {
   "cell_type": "code",
   "execution_count": 261,
   "id": "5fda1850-61a7-418a-b068-f95ad09ac464",
   "metadata": {},
   "outputs": [
    {
     "data": {
      "text/plain": [
       "{}"
      ]
     },
     "execution_count": 261,
     "metadata": {},
     "output_type": "execute_result"
    }
   ],
   "source": [
    "a.__dict__"
   ]
  },
  {
   "cell_type": "code",
   "execution_count": 267,
   "id": "22195869-6580-4844-a8cf-1d3d554d2bd9",
   "metadata": {},
   "outputs": [
    {
     "data": {
      "text/plain": [
       "{'name': 'Toulouse', 'population': 477000}"
      ]
     },
     "execution_count": 267,
     "metadata": {},
     "output_type": "execute_result"
    }
   ],
   "source": [
    "@dataclass\n",
    "class City:\n",
    "    name: str\n",
    "    population: int\n",
    "\n",
    "c = City('Toulouse', 477_000)\n",
    "c.__dict__"
   ]
  },
  {
   "cell_type": "code",
   "execution_count": null,
   "id": "b34a1440-6169-49f9-a56b-31dcb0f99993",
   "metadata": {},
   "outputs": [],
   "source": [
    "x.__init__"
   ]
  },
  {
   "cell_type": "code",
   "execution_count": 236,
   "id": "4054f4b2-fabb-451e-a46e-c905b3b56cd4",
   "metadata": {},
   "outputs": [
    {
     "data": {
      "text/plain": [
       "[4, 7, 12, 23, 90]"
      ]
     },
     "execution_count": 236,
     "metadata": {},
     "output_type": "execute_result"
    }
   ],
   "source": [
    "sorted([4, 7, 12, 23, 90]) # call < (__lt__) of type 'int'"
   ]
  },
  {
   "cell_type": "code",
   "execution_count": 240,
   "id": "f9a63ed3-88f1-4dfe-acf2-1212191100f2",
   "metadata": {},
   "outputs": [],
   "source": [
    "a1 = A()\n",
    "a2 = A()\n",
    "## TypeError: '<' not supported between instances of 'A' and 'A'\n",
    "# sorted([a1, a2])"
   ]
  },
  {
   "cell_type": "code",
   "execution_count": 244,
   "id": "bd66f819-8d80-40e3-ad5a-cd6843898fe9",
   "metadata": {},
   "outputs": [
    {
     "data": {
      "text/plain": [
       "NotImplemented"
      ]
     },
     "execution_count": 244,
     "metadata": {},
     "output_type": "execute_result"
    }
   ],
   "source": [
    "# all objects have defaults: lt, le, gt, ge returning NotImplemented\n",
    "a1.__lt__(a2)"
   ]
  },
  {
   "cell_type": "code",
   "execution_count": 231,
   "id": "aa4a7666-2f5d-4cc2-af89-425de50de2fc",
   "metadata": {},
   "outputs": [
    {
     "data": {
      "text/plain": [
       "False"
      ]
     },
     "execution_count": 231,
     "metadata": {},
     "output_type": "execute_result"
    }
   ],
   "source": [
    "12 == \"ceci n'est pas un nombre\" "
   ]
  },
  {
   "cell_type": "code",
   "execution_count": 217,
   "id": "aa33c421-4882-455b-a01c-af24e203ed71",
   "metadata": {},
   "outputs": [],
   "source": [
    "city = 'Toulouse'"
   ]
  },
  {
   "cell_type": "code",
   "execution_count": 221,
   "id": "3b0f2f12-ad5a-400d-bd1c-026b08fea338",
   "metadata": {},
   "outputs": [],
   "source": [
    "## TypeError: 'str' object does not support item assignment\n",
    "#city[0] = 'B'"
   ]
  },
  {
   "cell_type": "code",
   "execution_count": 225,
   "id": "aeb32166-87f7-4e25-83dc-dc2ff32d8c57",
   "metadata": {},
   "outputs": [
    {
     "data": {
      "text/plain": [
       "'Toulouse, ville rose, ville rose'"
      ]
     },
     "execution_count": 225,
     "metadata": {},
     "output_type": "execute_result"
    }
   ],
   "source": [
    "city += ', ville rose' # new object (no __iadd__ in type str)\n",
    "city"
   ]
  },
  {
   "cell_type": "code",
   "execution_count": null,
   "id": "d706fa96-4b40-4de3-aa86-8aa9cb431afd",
   "metadata": {},
   "outputs": [],
   "source": [
    "city.__i"
   ]
  },
  {
   "cell_type": "code",
   "execution_count": 185,
   "id": "6ae67dc2-3aef-4ea9-a984-52fe7fd2a204",
   "metadata": {},
   "outputs": [
    {
     "data": {
      "text/plain": [
       "(2.3333333333333335, 2, 1)"
      ]
     },
     "execution_count": 185,
     "metadata": {},
     "output_type": "execute_result"
    }
   ],
   "source": [
    "7 / 3,  7 // 3,   7 % 3 # calls resp.  __truediv__, __floordiv__, __mod__"
   ]
  },
  {
   "cell_type": "code",
   "execution_count": 193,
   "id": "52cf06c9-4193-4f2f-bd2e-844c2cc96031",
   "metadata": {},
   "outputs": [
    {
     "data": {
      "text/plain": [
       "(2, 1)"
      ]
     },
     "execution_count": 193,
     "metadata": {},
     "output_type": "execute_result"
    }
   ],
   "source": [
    "nb = 7\n",
    "# nb.__divmod__(3)\n",
    "divmod(7, 3)"
   ]
  },
  {
   "cell_type": "code",
   "execution_count": 197,
   "id": "ea116cda-c83c-44a4-8b7a-088ce436e04a",
   "metadata": {},
   "outputs": [
    {
     "data": {
      "text/plain": [
       "['__divmod__',\n",
       " '__floordiv__',\n",
       " '__ifloordiv__',\n",
       " '__itruediv__',\n",
       " '__rdivmod__',\n",
       " '__rfloordiv__',\n",
       " '__rtruediv__',\n",
       " '__truediv__']"
      ]
     },
     "execution_count": 197,
     "metadata": {},
     "output_type": "execute_result"
    }
   ],
   "source": [
    "# look for methods containing 'div' in object x (ndarray)\n",
    "[method for method in dir(x) if 'div' in method]"
   ]
  },
  {
   "cell_type": "code",
   "execution_count": 154,
   "id": "eebed7cf-d807-4d9b-bbb4-db8f8cd9ba44",
   "metadata": {},
   "outputs": [
    {
     "data": {
      "text/plain": [
       "['Toulouse',\n",
       " 'Grenoble',\n",
       " 'Aix-en-Provence',\n",
       " 'Montpellier',\n",
       " 'Toulouse',\n",
       " 'Grenoble',\n",
       " 'Aix-en-Provence',\n",
       " 'Montpellier']"
      ]
     },
     "execution_count": 154,
     "metadata": {},
     "output_type": "execute_result"
    }
   ],
   "source": [
    "cities + cities"
   ]
  },
  {
   "cell_type": "code",
   "execution_count": 158,
   "id": "317c190d-bcb9-4337-885c-57d872229631",
   "metadata": {},
   "outputs": [],
   "source": [
    "cities += ['Pau', 'Lille']"
   ]
  },
  {
   "cell_type": "code",
   "execution_count": 203,
   "id": "a142df03-1495-4122-adcb-2926cd04af82",
   "metadata": {},
   "outputs": [
    {
     "data": {
      "text/plain": [
       "'ohohohohoh'"
      ]
     },
     "execution_count": 203,
     "metadata": {},
     "output_type": "execute_result"
    }
   ],
   "source": [
    "# call + on types 'str' and 'int' => str.__add__\n",
    "'oh' * 5"
   ]
  },
  {
   "cell_type": "code",
   "execution_count": 205,
   "id": "c0769bcb-c92c-4027-ae2e-93dd7876b7dc",
   "metadata": {},
   "outputs": [
    {
     "data": {
      "text/plain": [
       "'ohohohohoh'"
      ]
     },
     "execution_count": 205,
     "metadata": {},
     "output_type": "execute_result"
    }
   ],
   "source": [
    "# call + on types 'int' and 'str' \n",
    "# => int.__add__: answer NotImplemented\n",
    "# => str.__radd__ => answer 'ohohoh'\n",
    "5 * 'oh'"
   ]
  },
  {
   "cell_type": "code",
   "execution_count": 207,
   "id": "a91fe6a1-1ee5-434c-b194-5fb343f69cc8",
   "metadata": {},
   "outputs": [
    {
     "data": {
      "text/plain": [
       "NotImplemented"
      ]
     },
     "execution_count": 207,
     "metadata": {},
     "output_type": "execute_result"
    }
   ],
   "source": [
    "nb = 5\n",
    "nb.__add__('oh')"
   ]
  },
  {
   "cell_type": "code",
   "execution_count": 211,
   "id": "25ec169e-856c-49cd-9fe1-0478d3b32251",
   "metadata": {},
   "outputs": [
    {
     "data": {
      "text/plain": [
       "array([ 1.        ,  1.00012566,  1.00025133, ..., 13.56611928,\n",
       "       13.56624495, 13.56637061])"
      ]
     },
     "execution_count": 211,
     "metadata": {},
     "output_type": "execute_result"
    }
   ],
   "source": [
    "x + 1"
   ]
  },
  {
   "cell_type": "code",
   "execution_count": 213,
   "id": "7a0e9ea4-e762-4e7b-9c5e-402ea32bcacf",
   "metadata": {},
   "outputs": [
    {
     "data": {
      "text/plain": [
       "array([ 1.        ,  1.00012566,  1.00025133, ..., 13.56611928,\n",
       "       13.56624495, 13.56637061])"
      ]
     },
     "execution_count": 213,
     "metadata": {},
     "output_type": "execute_result"
    }
   ],
   "source": [
    "1 + x"
   ]
  },
  {
   "cell_type": "code",
   "execution_count": 165,
   "id": "ba12351a-4e5c-4c45-8886-15bb2c5f64db",
   "metadata": {},
   "outputs": [],
   "source": [
    "## TypeError: unsupported operand type(s) for -: 'list' and 'list'\n",
    "#cities - cities"
   ]
  },
  {
   "cell_type": "code",
   "execution_count": 167,
   "id": "dfd3ff31-99a2-422d-b468-cb5bea376f5b",
   "metadata": {},
   "outputs": [
    {
     "data": {
      "text/plain": [
       "['Toulouse',\n",
       " 'Grenoble',\n",
       " 'Aix-en-Provence',\n",
       " 'Montpellier',\n",
       " 'Pau',\n",
       " 'Lille',\n",
       " 'Toulouse',\n",
       " 'Grenoble',\n",
       " 'Aix-en-Provence',\n",
       " 'Montpellier',\n",
       " 'Pau',\n",
       " 'Lille',\n",
       " 'Toulouse',\n",
       " 'Grenoble',\n",
       " 'Aix-en-Provence',\n",
       " 'Montpellier',\n",
       " 'Pau',\n",
       " 'Lille']"
      ]
     },
     "execution_count": 167,
     "metadata": {},
     "output_type": "execute_result"
    }
   ],
   "source": [
    "cities * 3"
   ]
  },
  {
   "cell_type": "code",
   "execution_count": 171,
   "id": "2a187e76-b286-44b2-9632-36f14544ada3",
   "metadata": {},
   "outputs": [],
   "source": [
    "## TypeError: can't multiply sequence by non-int of type 'list'\n",
    "#cities * cities"
   ]
  },
  {
   "cell_type": "code",
   "execution_count": 106,
   "id": "76808bbc-9801-496a-aebf-73b82b072306",
   "metadata": {},
   "outputs": [
    {
     "name": "stdout",
     "output_type": "stream",
     "text": [
      "['Toulouse', 'Grenoble', 'Aix-en-Provence', 'Montpellier']\n",
      "['Toulouse', 'Grenoble', 'Aix-en-Provence', 'Montpellier']\n"
     ]
    }
   ],
   "source": [
    "print(repr(cities))\n",
    "print(str(cities))"
   ]
  },
  {
   "cell_type": "code",
   "execution_count": 114,
   "id": "021f1437-369f-49ae-84a9-5eb664dc613e",
   "metadata": {},
   "outputs": [
    {
     "name": "stdout",
     "output_type": "stream",
     "text": [
      "array([0.00000000e+00, 1.25664963e-04, 2.51329926e-04, ...,\n",
      "       1.25661193e+01, 1.25662449e+01, 1.25663706e+01])\n",
      "[0.00000000e+00 1.25664963e-04 2.51329926e-04 ... 1.25661193e+01\n",
      " 1.25662449e+01 1.25663706e+01]\n"
     ]
    }
   ],
   "source": [
    "x = np.linspace(0, 4*np.pi, 100_000)\n",
    "print(repr(x))\n",
    "print(str(x))"
   ]
  },
  {
   "cell_type": "code",
   "execution_count": 118,
   "id": "a0ca87b2-9239-4e40-a32a-36a538cfeed0",
   "metadata": {},
   "outputs": [
    {
     "name": "stdout",
     "output_type": "stream",
     "text": [
      "[0.00000000e+00 1.25664963e-04 2.51329926e-04 ... 1.25661193e+01\n",
      " 1.25662449e+01 1.25663706e+01]\n"
     ]
    },
    {
     "data": {
      "text/plain": [
       "array([0.00000000e+00, 1.25664963e-04, 2.51329926e-04, ...,\n",
       "       1.25661193e+01, 1.25662449e+01, 1.25663706e+01])"
      ]
     },
     "execution_count": 118,
     "metadata": {},
     "output_type": "execute_result"
    }
   ],
   "source": [
    "print(x) # calls str\n",
    "x # calls repr"
   ]
  },
  {
   "cell_type": "code",
   "execution_count": 126,
   "id": "c7dd8ff5-b128-49d2-9b53-b20cc553a5d4",
   "metadata": {},
   "outputs": [
    {
     "name": "stdout",
     "output_type": "stream",
     "text": [
      " * repr x = array([0.00000000e+00, 1.25664963e-04, 2.51329926e-04, ...,\n",
      "       1.25661193e+01, 1.25662449e+01, 1.25663706e+01]),\n",
      "\n",
      " * str x = [0.00000000e+00 1.25664963e-04 2.51329926e-04 ... 1.25661193e+01\n",
      " 1.25662449e+01 1.25663706e+01]\n"
     ]
    }
   ],
   "source": [
    "print(f\" * repr x = {x!r},\\n\\n * str x = {x}\")"
   ]
  },
  {
   "cell_type": "code",
   "execution_count": 128,
   "id": "d0f55343-abe1-4238-b708-809fb8bbd706",
   "metadata": {},
   "outputs": [
    {
     "data": {
      "text/plain": [
       "'Toulouse'"
      ]
     },
     "execution_count": 128,
     "metadata": {},
     "output_type": "execute_result"
    }
   ],
   "source": [
    "city = \"Toulouse\"\n",
    "city"
   ]
  },
  {
   "cell_type": "code",
   "execution_count": 130,
   "id": "f2ef7eae-2514-4d14-8cb1-df55f136369c",
   "metadata": {},
   "outputs": [
    {
     "name": "stdout",
     "output_type": "stream",
     "text": [
      "Toulouse\n",
      "'Toulouse'\n"
     ]
    }
   ],
   "source": [
    "print(str(city))\n",
    "print(repr(city))"
   ]
  },
  {
   "cell_type": "code",
   "execution_count": 132,
   "id": "fb6a3a61-42b2-4578-b6c3-32204037efbd",
   "metadata": {},
   "outputs": [
    {
     "name": "stdout",
     "output_type": "stream",
     "text": [
      "<__main__.A object at 0x000001B6CC2144D0>\n",
      "<__main__.A object at 0x000001B6CC2144D0>\n"
     ]
    }
   ],
   "source": [
    "class A:\n",
    "    pass\n",
    "\n",
    "a = A()\n",
    "print(str(a))\n",
    "print(repr(a))"
   ]
  },
  {
   "cell_type": "code",
   "execution_count": 151,
   "id": "8ce14a2f-6ba8-4d93-8d56-23226e34e7ca",
   "metadata": {},
   "outputs": [
    {
     "name": "stdout",
     "output_type": "stream",
     "text": [
      "'' : False\n",
      "\n",
      "'python' : True\n",
      "'python'  is  true\n",
      "\n",
      "[] : False\n",
      "\n",
      "[1, 2, 3] : True\n",
      "[1, 2, 3]  is  true\n",
      "\n",
      "None : False\n",
      "\n",
      "0 : False\n",
      "\n",
      "1 : True\n",
      "1  is  true\n",
      "\n",
      "<__main__.A object at 0x000001B6CC2144D0> : True\n",
      "<__main__.A object at 0x000001B6CC2144D0>  is  true\n",
      "\n"
     ]
    }
   ],
   "source": [
    "# truthness\n",
    "for o in '', 'python', [], [1, 2,3], None, 0, 1, a:\n",
    "    print(repr(o), ':', bool(o))\n",
    "    if o:\n",
    "        print(repr(o), ' is  true') \n",
    "    print()"
   ]
  },
  {
   "cell_type": "code",
   "execution_count": null,
   "id": "6cbb3fa7-b77a-4b81-8005-68199afb1240",
   "metadata": {},
   "outputs": [],
   "source": [
    "x.__"
   ]
  }
 ],
 "metadata": {
  "kernelspec": {
   "display_name": "Python 3 (ipykernel)",
   "language": "python",
   "name": "python3"
  },
  "language_info": {
   "codemirror_mode": {
    "name": "ipython",
    "version": 3
   },
   "file_extension": ".py",
   "mimetype": "text/x-python",
   "name": "python",
   "nbconvert_exporter": "python",
   "pygments_lexer": "ipython3",
   "version": "3.12.3"
  }
 },
 "nbformat": 4,
 "nbformat_minor": 5
}
